{
 "cells": [
  {
   "cell_type": "markdown",
   "metadata": {},
   "source": [
    "#### Chapter 1"
   ]
  },
  {
   "cell_type": "markdown",
   "metadata": {},
   "source": [
    "The dot command lets us repeat the last change. It is the most powerful and versatile command in Vim.\n",
    "\n",
    "\\>G command increases the indentation from the current line until the end of a file. You can combine it with numbers, eg >2G.\n",
    "\n",
    "This is in normal mode, in insert mode, it will record all the changes from the time we press i to enter insert mode to the time we press esc to get back to normal mode and then it'll repeat all the changes\n",
    "\n",
    "a command appends at the cursors current position. However, the A command appends at the end of a line, this way we can use A instead of $a, one key stroke instead of 2.\n",
    "\n",
    "we can search characters with the f{char} command, if we press f+ it will take us to the first occurence of + then we can make a change. If we want to repeat this change everywhere we can keep doing f+. f+. and it will repeat the change easily.\n",
    "\n",
    "However, pressing f+ is also boring. We can just press ; and it will repeat the last search"
   ]
  },
  {
   "cell_type": "code",
   "execution_count": null,
   "metadata": {},
   "outputs": [],
   "source": []
  }
 ],
 "metadata": {
  "kernelspec": {
   "display_name": "Python 3",
   "language": "python",
   "name": "python3"
  },
  "language_info": {
   "codemirror_mode": {
    "name": "ipython",
    "version": 3
   },
   "file_extension": ".py",
   "mimetype": "text/x-python",
   "name": "python",
   "nbconvert_exporter": "python",
   "pygments_lexer": "ipython3",
   "version": "3.7.3"
  }
 },
 "nbformat": 4,
 "nbformat_minor": 2
}
