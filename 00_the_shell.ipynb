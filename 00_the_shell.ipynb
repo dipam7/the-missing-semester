{
 "cells": [
  {
   "cell_type": "code",
   "execution_count": 1,
   "metadata": {},
   "outputs": [
    {
     "name": "stdout",
     "output_type": "stream",
     "text": [
      "Thu Mar 26 19:28:04 EDT 2020\r\n"
     ]
    }
   ],
   "source": [
    "!date"
   ]
  },
  {
   "cell_type": "code",
   "execution_count": 2,
   "metadata": {},
   "outputs": [
    {
     "name": "stdout",
     "output_type": "stream",
     "text": [
      "hello\r\n"
     ]
    }
   ],
   "source": [
    "# arguments are separated by space\n",
    "!echo hello"
   ]
  },
  {
   "cell_type": "code",
   "execution_count": 3,
   "metadata": {},
   "outputs": [
    {
     "name": "stdout",
     "output_type": "stream",
     "text": [
      "hello world\r\n"
     ]
    }
   ],
   "source": [
    "# we can write multiple arguments using quotes\n",
    "!echo 'hello world'"
   ]
  },
  {
   "cell_type": "code",
   "execution_count": 4,
   "metadata": {},
   "outputs": [
    {
     "name": "stdout",
     "output_type": "stream",
     "text": [
      "hello world\r\n"
     ]
    }
   ],
   "source": [
    "# or using the escape character\n",
    "!echo hello\\ world"
   ]
  },
  {
   "cell_type": "markdown",
   "metadata": {},
   "source": [
    "These are all built in programs that come with your machine. And your shell has a way to locate these programs. It does this through something called an environment variable. Environment variables are things that are set when you start the shell. There are a bunch of them like where is your home directory or what is your username. One important variable is the **$PATH** variable"
   ]
  },
  {
   "cell_type": "code",
   "execution_count": 5,
   "metadata": {},
   "outputs": [
    {
     "name": "stdout",
     "output_type": "stream",
     "text": [
      "/usr/local/bin://anaconda3/bin://anaconda3/condabin:/usr/local/bin:/usr/bin:/bin:/usr/sbin:/sbin\r\n"
     ]
    }
   ],
   "source": [
    "!echo $PATH"
   ]
  },
  {
   "cell_type": "markdown",
   "metadata": {},
   "source": [
    "It shows a list of paths that the shell will search for file or program matching the name of the command you typed. It's a colon separated list. If we want to know where it found it we can use which."
   ]
  },
  {
   "cell_type": "code",
   "execution_count": 6,
   "metadata": {},
   "outputs": [
    {
     "name": "stdout",
     "output_type": "stream",
     "text": [
      "/bin/echo\r\n"
     ]
    }
   ],
   "source": [
    "!which echo"
   ]
  },
  {
   "cell_type": "code",
   "execution_count": 7,
   "metadata": {},
   "outputs": [
    {
     "name": "stdout",
     "output_type": "stream",
     "text": [
      "/usr/local/bin/python3\r\n"
     ]
    }
   ],
   "source": [
    "!which python3"
   ]
  },
  {
   "cell_type": "markdown",
   "metadata": {},
   "source": [
    "So if I were to run a program called echo, this is the one that would be run. Paths are location of files. Abs vs relative paths. To find where we are"
   ]
  },
  {
   "cell_type": "code",
   "execution_count": 8,
   "metadata": {},
   "outputs": [
    {
     "name": "stdout",
     "output_type": "stream",
     "text": [
      "/Users/dipamvasani/Desktop\r\n"
     ]
    }
   ],
   "source": [
    "!pwd"
   ]
  },
  {
   "cell_type": "markdown",
   "metadata": {},
   "source": [
    "All relative paths are relative to the current working directory"
   ]
  },
  {
   "cell_type": "code",
   "execution_count": 9,
   "metadata": {},
   "outputs": [
    {
     "name": "stdout",
     "output_type": "stream",
     "text": [
      "/Users/dipamvasani/Desktop/Deep_learning_for_signal_processing\n"
     ]
    }
   ],
   "source": [
    "%cd Deep_learning_for_signal_processing/"
   ]
  },
  {
   "cell_type": "code",
   "execution_count": 10,
   "metadata": {},
   "outputs": [
    {
     "name": "stdout",
     "output_type": "stream",
     "text": [
      "/Users/dipamvasani/Desktop/Deep_learning_for_signal_processing\r\n"
     ]
    }
   ],
   "source": [
    "!pwd"
   ]
  },
  {
   "cell_type": "markdown",
   "metadata": {},
   "source": [
    "There are also some special directories. Dot means current directory. Dot dot means parent directory"
   ]
  },
  {
   "cell_type": "code",
   "execution_count": 11,
   "metadata": {},
   "outputs": [
    {
     "name": "stdout",
     "output_type": "stream",
     "text": [
      "/Users/dipamvasani/Desktop\n"
     ]
    }
   ],
   "source": [
    "%cd .."
   ]
  },
  {
   "cell_type": "code",
   "execution_count": 12,
   "metadata": {},
   "outputs": [
    {
     "name": "stdout",
     "output_type": "stream",
     "text": [
      "/Users/dipamvasani/Desktop\r\n"
     ]
    }
   ],
   "source": [
    "!pwd"
   ]
  },
  {
   "cell_type": "markdown",
   "metadata": {},
   "source": [
    "Using these relative paths we can navigate all the way back to home and then go to bin and run the echo program"
   ]
  },
  {
   "cell_type": "code",
   "execution_count": 13,
   "metadata": {},
   "outputs": [
    {
     "name": "stdout",
     "output_type": "stream",
     "text": [
      "world\r\n"
     ]
    }
   ],
   "source": [
    "!../../../bin/echo world"
   ]
  },
  {
   "cell_type": "markdown",
   "metadata": {},
   "source": [
    "If you want to write a program like echo or date, you just give it a name and you set a path variable for shell to search it. This way it can be run from anywhere."
   ]
  },
  {
   "cell_type": "code",
   "execution_count": 14,
   "metadata": {},
   "outputs": [
    {
     "name": "stdout",
     "output_type": "stream",
     "text": [
      "\u001b[34mApplications\u001b[m\u001b[m    \u001b[34mLibrary\u001b[m\u001b[m         \u001b[34mPublic\u001b[m\u001b[m          Untitled2.ipynb Untitled6.ipynb\r\n",
      "\u001b[34mDesktop\u001b[m\u001b[m         \u001b[34mMovies\u001b[m\u001b[m          \u001b[34mPycharmProjects\u001b[m\u001b[m Untitled3.ipynb get-pip.py\r\n",
      "\u001b[34mDocuments\u001b[m\u001b[m       \u001b[34mMusic\u001b[m\u001b[m           Untitled.ipynb  Untitled4.ipynb \u001b[34mseaborn-data\u001b[m\u001b[m\r\n",
      "\u001b[34mDownloads\u001b[m\u001b[m       \u001b[34mPictures\u001b[m\u001b[m        Untitled1.ipynb Untitled5.ipynb\r\n"
     ]
    }
   ],
   "source": [
    "!ls .."
   ]
  },
  {
   "cell_type": "code",
   "execution_count": 15,
   "metadata": {},
   "outputs": [
    {
     "name": "stdout",
     "output_type": "stream",
     "text": [
      "/Users/dipamvasani\n"
     ]
    }
   ],
   "source": [
    "%cd ~"
   ]
  },
  {
   "cell_type": "code",
   "execution_count": 16,
   "metadata": {},
   "outputs": [
    {
     "name": "stdout",
     "output_type": "stream",
     "text": [
      "/Users/dipamvasani\r\n"
     ]
    }
   ],
   "source": [
    "!pwd"
   ]
  },
  {
   "cell_type": "markdown",
   "metadata": {},
   "source": [
    "~ is home directory. We can use relative paths with it as well like"
   ]
  },
  {
   "cell_type": "code",
   "execution_count": 17,
   "metadata": {},
   "outputs": [
    {
     "name": "stdout",
     "output_type": "stream",
     "text": [
      "/Users/dipamvasani/Desktop\n"
     ]
    }
   ],
   "source": [
    "%cd ~/Desktop/"
   ]
  },
  {
   "cell_type": "markdown",
   "metadata": {},
   "source": [
    "There is another special character dash. It will take you to the directory you were previously in."
   ]
  },
  {
   "cell_type": "code",
   "execution_count": 18,
   "metadata": {},
   "outputs": [
    {
     "name": "stdout",
     "output_type": "stream",
     "text": [
      "/Users/dipamvasani\n"
     ]
    }
   ],
   "source": [
    "%cd -"
   ]
  },
  {
   "cell_type": "markdown",
   "metadata": {},
   "source": [
    "If we do cd dash again, we will come back to the dir we were in. This is a handy way to toggle between directories if you want to"
   ]
  },
  {
   "cell_type": "code",
   "execution_count": 19,
   "metadata": {},
   "outputs": [],
   "source": [
    "# to open the help page, shows flags and options\n",
    "# !ls --help"
   ]
  },
  {
   "cell_type": "code",
   "execution_count": 20,
   "metadata": {},
   "outputs": [
    {
     "name": "stdout",
     "output_type": "stream",
     "text": [
      "total 4192\r\n",
      "drwx------@   3 dipamvasani  staff       96 Sep  8  2019 \u001b[34mApplications\u001b[m\u001b[m\r\n",
      "drwx------@  41 dipamvasani  staff     1312 Mar 26 19:27 \u001b[34mDesktop\u001b[m\u001b[m\r\n",
      "drwx------@   5 dipamvasani  staff      160 Dec 31 09:25 \u001b[34mDocuments\u001b[m\u001b[m\r\n",
      "drwx------+ 348 dipamvasani  staff    11136 Mar 25 21:07 \u001b[34mDownloads\u001b[m\u001b[m\r\n",
      "drwx------@  73 dipamvasani  staff     2336 Mar  3 21:08 \u001b[34mLibrary\u001b[m\u001b[m\r\n",
      "drwx------+   3 dipamvasani  staff       96 Sep  8  2019 \u001b[34mMovies\u001b[m\u001b[m\r\n",
      "drwx------+   4 dipamvasani  staff      128 Oct 22 10:57 \u001b[34mMusic\u001b[m\u001b[m\r\n",
      "drwx------+   4 dipamvasani  staff      128 Jan 27 13:22 \u001b[34mPictures\u001b[m\u001b[m\r\n",
      "drwxr-xr-x+   4 dipamvasani  staff      128 Sep  8  2019 \u001b[34mPublic\u001b[m\u001b[m\r\n",
      "drwxr-xr-x    4 dipamvasani  staff      128 Nov  7 20:39 \u001b[34mPycharmProjects\u001b[m\u001b[m\r\n",
      "-rw-r--r--    1 dipamvasani  staff     1071 Dec 12 20:19 Untitled.ipynb\r\n",
      "-rw-r--r--    1 dipamvasani  staff       72 Dec 20 01:28 Untitled1.ipynb\r\n",
      "-rw-r--r--    1 dipamvasani  staff       72 Jan  5 23:07 Untitled2.ipynb\r\n",
      "-rw-r--r--    1 dipamvasani  staff     4136 Jan  6 05:49 Untitled3.ipynb\r\n",
      "-rw-r--r--    1 dipamvasani  staff       72 Feb 12 10:18 Untitled4.ipynb\r\n",
      "-rw-r--r--    1 dipamvasani  staff      555 Mar  4 15:29 Untitled5.ipynb\r\n",
      "-rw-r--r--    1 dipamvasani  staff     1888 Mar  9 17:49 Untitled6.ipynb\r\n",
      "-rw-r--r--    1 dipamvasani  staff  1775835 Oct 18 04:45 get-pip.py\r\n",
      "drwxr-xr-x    3 dipamvasani  staff       96 Dec  6 18:42 \u001b[34mseaborn-data\u001b[m\u001b[m\r\n"
     ]
    }
   ],
   "source": [
    "# list in the long format\n",
    "!ls -l"
   ]
  },
  {
   "cell_type": "markdown",
   "metadata": {},
   "source": [
    "- d at the beginning indicates directory\n",
    "- the following bits indicate permissions\n",
    "  * the first 3 are for the owner of the file (col 3 shows the owner, dipamvasani)\n",
    "  * the next 3 are for the group the file belongs to (col 4 shows group)\n",
    "  * the final group of 3 are permissions for everyone else\n",
    "\n",
    "r - read\n",
    "\n",
    "w - write\n",
    "\n",
    "x - execute\n",
    "\n",
    "The meanings of these differ for files and directories\n",
    "\n",
    "For files its pretty straightforward, read is open a file, write is edit and save and x is execute. Hence, if we check usr/bin"
   ]
  },
  {
   "cell_type": "code",
   "execution_count": 21,
   "metadata": {},
   "outputs": [
    {
     "name": "stdout",
     "output_type": "stream",
     "text": [
      "total 104672\r\n",
      "-rwxr-xr-x   4 root   wheel        925 Feb 25  2019 \u001b[31m2to3-\u001b[m\u001b[m\r\n",
      "lrwxr-xr-x   1 root   wheel         74 Mar 19  2019 \u001b[35m2to3-2.7\u001b[m\u001b[m -> ../../System/Library/Frameworks/Python.framework/Versions/2.7/bin/2to3-2.7\r\n",
      "-rwxr-xr-x   1 root   wheel      55152 Aug 23  2019 \u001b[31mAssetCacheLocatorUtil\u001b[m\u001b[m\r\n",
      "-rwxr-xr-x   1 root   wheel      53552 Aug 23  2019 \u001b[31mAssetCacheManagerUtil\u001b[m\u001b[m\r\n",
      "-rwxr-xr-x   1 root   wheel      48112 Aug 23  2019 \u001b[31mAssetCacheTetheratorUtil\u001b[m\u001b[m\r\n",
      "-rwxr-xr-x   1 root   wheel      18320 Aug 23  2019 \u001b[31mBuildStrings\u001b[m\u001b[m\r\n",
      "-rwxr-xr-x   1 root   wheel      18288 Aug 23  2019 \u001b[31mCpMac\u001b[m\u001b[m\r\n",
      "-rwxr-xr-x   1 root   wheel      18288 Aug 23  2019 \u001b[31mDeRez\u001b[m\u001b[m\r\n",
      "-rwxr-xr-x   1 root   wheel      18320 Aug 23  2019 \u001b[31mGetFileInfo\u001b[m\u001b[m\r\n",
      "-rwxr-xr-x   1 root   wheel      69760 Jan 24 04:14 \u001b[31mIOAccelMemory\u001b[m\u001b[m\r\n",
      "-rwxr-xr-x   1 root   wheel      18304 Aug 23  2019 \u001b[31mMergePef\u001b[m\u001b[m\r\n",
      "-rwxr-xr-x   1 root   wheel      18288 Aug 23  2019 \u001b[31mMvMac\u001b[m\u001b[m\r\n",
      "-rwxr-xr-x   1 root   wheel      18304 Aug 23  2019 \u001b[31mResMerger\u001b[m\u001b[m\r\n",
      "-rwxr-xr-x   1 root   wheel      18288 Aug 23  2019 \u001b[31mRez\u001b[m\u001b[m\r\n",
      "-rwxr-xr-x   1 root   wheel      18288 Aug 23  2019 \u001b[31mRezDet\u001b[m\u001b[m\r\n",
      "-rwxr-xr-x   1 root   wheel      18304 Aug 23  2019 \u001b[31mRezWack\u001b[m\u001b[m\r\n",
      "-rwxr-xr-x   1 root   wheel      32384 Jan 24 04:14 \u001b[31mSafeEjectGPU\u001b[m\u001b[m\r\n",
      "-rwxr-xr-x   1 root   wheel      18304 Aug 23  2019 \u001b[31mSetFile\u001b[m\u001b[m\r\n",
      "-rwxr-xr-x   1 root   wheel      18304 Aug 23  2019 \u001b[31mSplitForks\u001b[m\u001b[m\r\n",
      "-rwxr-xr-x   1 root   wheel      18304 Aug 23  2019 \u001b[31mUnRezWack\u001b[m\u001b[m\r\n",
      "-rwxr-xr-x   1 root   wheel      66608 Aug 23  2019 \u001b[31ma2p\u001b[m\u001b[m\r\n",
      "-rwxr-xr-x   1 root   wheel     234128 Aug 23  2019 \u001b[31ma2p5.18\u001b[m\u001b[m\r\n",
      "-rwxr-xr-x   1 root   wheel      18288 Aug 23  2019 \u001b[31mactool\u001b[m\u001b[m\r\n",
      "-rwxr-xr-x   1 root   wheel      33808 Aug 23  2019 \u001b[31maddftinfo\u001b[m\u001b[m\r\n",
      "-rwxr-xr-x   1 root   wheel      68464 Aug 23  2019 \u001b[31mafclip\u001b[m\u001b[m\r\n",
      "-rwxr-xr-x   1 root   wheel     120848 Aug 23  2019 \u001b[31mafconvert\u001b[m\u001b[m\r\n",
      "-rwxr-xr-x   1 root   wheel      55712 Aug 23  2019 \u001b[31mafhash\u001b[m\u001b[m\r\n",
      "-rwxr-xr-x   1 root   wheel      98416 Aug 23  2019 \u001b[31mafida\u001b[m\u001b[m\r\n",
      "-rwxr-xr-x   1 root   wheel     110208 Aug 23  2019 \u001b[31mafinfo\u001b[m\u001b[m\r\n",
      "-rwxr-xr-x   1 root   wheel     162321 Feb 25  2019 \u001b[31mafmtodit\u001b[m\u001b[m\r\n",
      "-rwxr-xr-x   1 root   wheel      65568 Aug 23  2019 \u001b[31mafplay\u001b[m\u001b[m\r\n",
      "-rwxr-xr-x   1 root   wheel      37664 Aug 23  2019 \u001b[31mafscexpand\u001b[m\u001b[m\r\n",
      "-rwxr-xr-x   1 root   wheel      30096 Aug 23  2019 \u001b[31magentxtrap\u001b[m\u001b[m\r\n",
      "-rwxr-xr-x   1 root   wheel      18304 Aug 23  2019 \u001b[31magvtool\u001b[m\u001b[m\r\n",
      "-rwxr-xr-x  15 root   wheel        190 Feb 25  2019 \u001b[31malias\u001b[m\u001b[m\r\n",
      "-rwxr-xr-x   1 root   wheel      41248 Aug 23  2019 \u001b[31mapplesingle\u001b[m\u001b[m\r\n",
      "lrwxr-xr-x   1 root   wheel         82 Mar 19  2019 \u001b[35mappletviewer\u001b[m\u001b[m -> /System/Library/Frameworks/JavaVM.framework/Versions/Current/Commands/appletviewer\r\n",
      "-rwxr-xr-x   1 root   wheel      18960 Aug 23  2019 \u001b[31mapply\u001b[m\u001b[m\r\n",
      "-r-xr-xr-x   1 root   wheel       1808 Feb 25  2019 \u001b[31mapropos\u001b[m\u001b[m\r\n",
      "lrwxr-xr-x   1 root   wheel         73 Mar 19  2019 \u001b[35mapt\u001b[m\u001b[m -> /System/Library/Frameworks/JavaVM.framework/Versions/Current/Commands/apt\r\n",
      "-rwxr-xr-x   1 root   wheel      18272 Aug 23  2019 \u001b[31mar\u001b[m\u001b[m\r\n",
      "-rwxr-xr-x   1 root   wheel      66880 Jan 24 04:14 \u001b[31march\u001b[m\u001b[m\r\n",
      "-rwxr-xr-x   1 root   wheel      18272 Aug 23  2019 \u001b[31mas\u001b[m\u001b[m\r\n",
      "-rwxr-xr-x   1 root   wheel      18288 Aug 23  2019 \u001b[31masa\u001b[m\u001b[m\r\n",
      "-rwxr-xr-x   1 root   wheel     144528 Aug 23  2019 \u001b[31masctl\u001b[m\u001b[m\r\n",
      "-rwxr-xr-x   1 root   wheel     931568 Aug 23  2019 \u001b[31massetutil\u001b[m\u001b[m\r\n",
      "-r-sr-xr-x   1 root   wheel      83680 Jan 24 04:14 \u001b[30m\u001b[41mat\u001b[m\u001b[m\r\n",
      "-rwxr-xr-x   1 root   wheel      80880 Jan 24 04:14 \u001b[31matos\u001b[m\u001b[m\r\n",
      "-r-sr-xr-x   1 root   wheel      83680 Jan 24 04:14 \u001b[30m\u001b[41matq\u001b[m\u001b[m\r\n",
      "-r-sr-xr-x   1 root   wheel      83680 Jan 24 04:14 \u001b[30m\u001b[41matrm\u001b[m\u001b[m\r\n",
      "-rwxr-xr-x   1 root   wheel      30624 Aug 23  2019 \u001b[31matsutil\u001b[m\u001b[m\r\n",
      "-rwxr-xr-x   1 root   wheel      39712 Aug 23  2019 \u001b[31mautomator\u001b[m\u001b[m\r\n",
      "-r-xr-xr-x   1 root   wheel        125 Mar 14  2019 \u001b[31mauval\u001b[m\u001b[m\r\n",
      "-rwxr-xr-x   1 root   wheel     344976 Aug 23  2019 \u001b[31mauvaltool\u001b[m\u001b[m\r\n",
      "-rwxr-xr-x   1 root   wheel      61152 Aug 23  2019 \u001b[31mavbdiagnose\u001b[m\u001b[m\r\n",
      "-rwxr-xr-x   1 root   wheel      59776 Aug 23  2019 \u001b[31mavbutil\u001b[m\u001b[m\r\n",
      "-rwxr-xr-x   1 root   wheel      95232 Aug 23  2019 \u001b[31mavconvert\u001b[m\u001b[m\r\n",
      "-rwxr-xr-x   1 root   wheel      29296 Jan 24 04:14 \u001b[31mavmetareadwrite\u001b[m\u001b[m\r\n",
      "-rwxr-xr-x   1 root   wheel     112576 Aug 23  2019 \u001b[31mawk\u001b[m\u001b[m\r\n",
      "-rwxr-xr-x   1 root   wheel      31088 Aug 23  2019 \u001b[31mbanner\u001b[m\u001b[m\r\n",
      "-rwxr-xr-x   1 root   wheel      23248 Aug 23  2019 \u001b[31mbase64\u001b[m\u001b[m\r\n",
      "-rwxr-xr-x   1 root   wheel      18304 Aug 23  2019 \u001b[31mbasename\u001b[m\u001b[m\r\n",
      "-r-xr-xr-x   1 root   wheel       6574 Feb 25  2019 \u001b[31mbashbug\u001b[m\u001b[m\r\n",
      "-r-sr-xr-x   1 root   wheel      83680 Jan 24 04:14 \u001b[30m\u001b[41mbatch\u001b[m\u001b[m\r\n",
      "-rwxr-xr-x   1 root   wheel      81232 Aug 23  2019 \u001b[31mbc\u001b[m\u001b[m\r\n",
      "-rwxr-xr-x  15 root   wheel        190 Feb 25  2019 \u001b[31mbg\u001b[m\u001b[m\r\n",
      "-rwxr-xr-x   1 root   wheel      18240 Aug 23  2019 \u001b[31mbiff\u001b[m\u001b[m\r\n",
      "-rwxr-xr-x   1 root   wheel      45792 Aug 23  2019 \u001b[31mbinhex\u001b[m\u001b[m\r\n",
      "-rwxr-xr-x  35 root   wheel        811 Feb 25  2019 \u001b[31mbinhex.pl\u001b[m\u001b[m\r\n",
      "-r-xr-xr-x   1 root   wheel       3941 Feb 25  2019 \u001b[31mbinhex5.18.pl\u001b[m\u001b[m\r\n",
      "-rwxr-xr-x   1 root   wheel     120160 Jan 24 04:14 \u001b[31mbioutil\u001b[m\u001b[m\r\n",
      "-rwxr-xr-x   1 root   wheel      18288 Aug 23  2019 \u001b[31mbison\u001b[m\u001b[m\r\n",
      "-rwxr-xr-x   1 root   wheel       1958 Feb 25  2019 \u001b[31mbitesize.d\u001b[m\u001b[m\r\n",
      "-rwxr-xr-x   1 root   wheel     193792 Aug 23  2019 \u001b[31mbrctl\u001b[m\u001b[m\r\n",
      "-rwxr-xr-x   1 root   wheel      71040 Aug 23  2019 \u001b[31mbsdtar\u001b[m\u001b[m\r\n",
      "-rwxr-xr-x   1 root   wheel      18688 Aug 23  2019 \u001b[31mbspatch\u001b[m\u001b[m\r\n",
      "-rwxr-xr-x   1 root   wheel       8708 Feb 25  2019 \u001b[31mbtmmdiagnose\u001b[m\u001b[m\r\n",
      "-rwxr-xr-x   1 root   wheel      41312 Aug 23  2019 \u001b[31mbunzip2\u001b[m\u001b[m\r\n",
      "-rwxr-xr-x   1 root   wheel      41312 Aug 23  2019 \u001b[31mbzcat\u001b[m\u001b[m\r\n",
      "lrwxr-xr-x   1 root   wheel          6 Mar 19  2019 \u001b[35mbzcmp\u001b[m\u001b[m -> bzdiff\r\n",
      "-rwxr-xr-x   1 root   wheel       2101 Feb 25  2019 \u001b[31mbzdiff\u001b[m\u001b[m\r\n",
      "-rwxr-xr-x   1 root   wheel      33952 Aug 23  2019 \u001b[31mbzegrep\u001b[m\u001b[m\r\n",
      "-rwxr-xr-x   1 root   wheel      33952 Aug 23  2019 \u001b[31mbzfgrep\u001b[m\u001b[m\r\n",
      "-rwxr-xr-x   1 root   wheel      33952 Aug 23  2019 \u001b[31mbzgrep\u001b[m\u001b[m\r\n",
      "-rwxr-xr-x   1 root   wheel      41312 Aug 23  2019 \u001b[31mbzip2\u001b[m\u001b[m\r\n",
      "-rwxr-xr-x   1 root   wheel      22848 Aug 23  2019 \u001b[31mbzip2recover\u001b[m\u001b[m\r\n",
      "lrwxr-xr-x   1 root   wheel          6 Mar 19  2019 \u001b[35mbzless\u001b[m\u001b[m -> bzmore\r\n",
      "-rwxr-xr-x   1 root   wheel       1259 Feb 25  2019 \u001b[31mbzmore\u001b[m\u001b[m\r\n",
      "lrwxr-xr-x   1 root   wheel          7 Mar 19  2019 \u001b[35mc++\u001b[m\u001b[m -> clang++\r\n",
      "-rwxr-xr-x   1 root   wheel     439792 Aug 23  2019 \u001b[31mc++filt\u001b[m\u001b[m\r\n",
      "-rwxr-xr-x  38 root   wheel        811 Feb 26  2019 \u001b[31mc2ph\u001b[m\u001b[m\r\n",
      "-rwxr-xr-x   1 root   wheel      36642 Feb 26  2019 \u001b[31mc2ph5.18\u001b[m\u001b[m\r\n",
      "-rwxr-xr-x   1 root   wheel      18288 Aug 23  2019 \u001b[31mc89\u001b[m\u001b[m\r\n",
      "-rwxr-xr-x   1 root   wheel      18288 Aug 23  2019 \u001b[31mc99\u001b[m\u001b[m\r\n",
      "-rwxr-xr-x   1 root   wheel      24432 Aug 23  2019 \u001b[31mcaffeinate\u001b[m\u001b[m\r\n",
      "-r-xr-xr-x   1 root   wheel      32192 Aug 23  2019 \u001b[31mcal\u001b[m\u001b[m\r\n",
      "-r-xr-xr-x   1 root   wheel      33632 Aug 23  2019 \u001b[31mcalendar\u001b[m\u001b[m\r\n",
      "-r-xr-xr-x   1 root   wheel      23728 Jan 24 04:14 \u001b[31mcancel\u001b[m\u001b[m\r\n",
      "-rwxr-xr-x   1 root   wheel      18688 Aug 23  2019 \u001b[31mcap_mkdb\u001b[m\u001b[m\r\n",
      "lrwxr-xr-x   1 root   wheel          3 Mar 19  2019 \u001b[35mcaptoinfo\u001b[m\u001b[m -> tic\r\n",
      "lrwxr-xr-x   1 root   wheel          5 Mar 19  2019 \u001b[35mcc\u001b[m\u001b[m -> clang\r\n",
      "-rwxr-xr-x  15 root   wheel        190 Feb 25  2019 \u001b[31mcd\u001b[m\u001b[m\r\n",
      "-rwxr-xr-x   1 root   wheel      91376 Jan 24 04:14 \u001b[31mcerttool\u001b[m\u001b[m\r\n",
      "-rwxr-xr-x   1 root   wheel      26912 Jan 24 04:14 \u001b[31mchecknr\u001b[m\u001b[m\r\n",
      "-rwxr-xr-x   1 root   wheel      18752 Aug 23  2019 \u001b[31mchflags\u001b[m\u001b[m\r\n",
      "-rwxr-xr-x   1 root   wheel      73776 Jan 24 04:14 \u001b[31mchfn\u001b[m\u001b[m\r\n",
      "-rwxr-xr-x   1 root   wheel      23312 Aug 23  2019 \u001b[31mchgrp\u001b[m\u001b[m\r\n",
      "-rwxr-xr-x   1 root   wheel      73776 Jan 24 04:14 \u001b[31mchpass\u001b[m\u001b[m\r\n",
      "-rwxr-xr-x   1 root   wheel      73776 Jan 24 04:14 \u001b[31mchsh\u001b[m\u001b[m\r\n",
      "-rwxr-xr-x   1 root   wheel      22688 Aug 23  2019 \u001b[31mcksum\u001b[m\u001b[m\r\n",
      "-rwxr-xr-x   1 root   wheel      18288 Aug 23  2019 \u001b[31mclang\u001b[m\u001b[m\r\n",
      "-rwxr-xr-x   1 root   wheel      18304 Aug 23  2019 \u001b[31mclang++\u001b[m\u001b[m\r\n",
      "-rwxr-xr-x   1 root   wheel      18016 Aug 23  2019 \u001b[31mclear\u001b[m\u001b[m\r\n",
      "-rwxr-xr-x   1 root   wheel      32672 Aug 23  2019 \u001b[31mcmp\u001b[m\u001b[m\r\n",
      "-rwxr-xr-x   1 root   wheel      18304 Aug 23  2019 \u001b[31mcmpdylib\u001b[m\u001b[m\r\n",
      "-rwxr-xr-x   1 root   wheel     100448 Jan 24 04:14 \u001b[31mcodesign\u001b[m\u001b[m\r\n",
      "-rwxr-xr-x   1 root   wheel      18320 Aug 23  2019 \u001b[31mcodesign_allocate\u001b[m\u001b[m\r\n",
      "-rwxr-xr-x   1 root   wheel      22944 Aug 23  2019 \u001b[31mcol\u001b[m\u001b[m\r\n",
      "-rwxr-xr-x   1 root   wheel      18560 Jan 24 04:14 \u001b[31mcolcrt\u001b[m\u001b[m\r\n",
      "-rwxr-xr-x   1 root   wheel      57536 Aug 23  2019 \u001b[31mcolldef\u001b[m\u001b[m\r\n",
      "-rwxr-xr-x   1 root   wheel      18496 Aug 23  2019 \u001b[31mcolrm\u001b[m\u001b[m\r\n",
      "-rwxr-xr-x   1 root   wheel      23440 Aug 23  2019 \u001b[31mcolumn\u001b[m\u001b[m\r\n",
      "-rwxr-xr-x   1 root   wheel      18592 Aug 23  2019 \u001b[31mcomm\u001b[m\u001b[m\r\n",
      "-rwxr-xr-x  15 root   wheel        190 Feb 25  2019 \u001b[31mcommand\u001b[m\u001b[m\r\n",
      "-rwxr-xr-x   1 root   wheel      27712 Aug 23  2019 \u001b[31mcompress\u001b[m\u001b[m\r\n",
      "-rwxr-xr-x   1 root   wheel      22992 Aug 23  2019 \u001b[31mcompression_tool\u001b[m\u001b[m\r\n",
      "-rwxr-xr-x  38 root   wheel        811 Feb 26  2019 \u001b[31mconfig_data\u001b[m\u001b[m\r\n",
      "-rwxr-xr-x   1 root   wheel       7265 Feb 26  2019 \u001b[31mconfig_data5.18\u001b[m\u001b[m\r\n",
      "-rwxr-xr-x   1 root   wheel      25072 Jan 24 04:14 \u001b[31mcorebrightnessdiag\u001b[m\u001b[m\r\n",
      "-rwxr-xr-x  38 root   wheel        811 Feb 26  2019 \u001b[31mcorelist\u001b[m\u001b[m\r\n",
      "-rwxr-xr-x   1 root   wheel      12790 Feb 26  2019 \u001b[31mcorelist5.18\u001b[m\u001b[m\r\n",
      "-rwxr-xr-x  38 root   wheel        811 Feb 26  2019 \u001b[31mcpan\u001b[m\u001b[m\r\n",
      "-rwxr-xr-x  38 root   wheel        811 Feb 26  2019 \u001b[31mcpan2dist\u001b[m\u001b[m\r\n",
      "-rwxr-xr-x   1 root   wheel      21859 Feb 26  2019 \u001b[31mcpan2dist5.18\u001b[m\u001b[m\r\n",
      "-rwxr-xr-x   1 root   wheel       5895 Feb 26  2019 \u001b[31mcpan5.18\u001b[m\u001b[m\r\n",
      "-rwxr-xr-x  38 root   wheel        811 Feb 26  2019 \u001b[31mcpanp\u001b[m\u001b[m\r\n",
      "-rwxr-xr-x  38 root   wheel        811 Feb 26  2019 \u001b[31mcpanp-run-perl\u001b[m\u001b[m\r\n",
      "-rwxr-xr-x   1 root   wheel        580 Feb 26  2019 \u001b[31mcpanp-run-perl5.18\u001b[m\u001b[m\r\n",
      "-rwxr-xr-x   1 root   wheel       3433 Feb 26  2019 \u001b[31mcpanp5.18\u001b[m\u001b[m\r\n",
      "-rwxr-xr-x   1 root   wheel      42976 Aug 23  2019 \u001b[31mcpio\u001b[m\u001b[m\r\n",
      "-rwxr-xr-x   1 root   wheel      18288 Aug 23  2019 \u001b[31mcpp\u001b[m\u001b[m\r\n",
      "-rwxr-xr-x   1 root   wheel       1402 Feb 25  2019 \u001b[31mcpu_profiler.d\u001b[m\u001b[m\r\n",
      "-rwxr-xr-x   1 root   wheel       1540 Feb 25  2019 \u001b[31mcpuwalk.d\u001b[m\u001b[m\r\n",
      "-rwxr-xr-x  35 root   wheel        811 Feb 25  2019 \u001b[31mcrc32\u001b[m\u001b[m\r\n",
      "-r-xr-xr-x   1 root   wheel        871 Feb 25  2019 \u001b[31mcrc325.18\u001b[m\u001b[m\r\n",
      "-rwxr-xr-x   1 root   wheel        342 Feb 25  2019 \u001b[31mcreatbyproc.d\u001b[m\u001b[m\r\n",
      "-rwxr-xr-x   1 root   wheel      35328 Jan 24 04:14 \u001b[31mcrlrefresh\u001b[m\u001b[m\r\n",
      "-rwsr-xr-x   1 root   wheel      39184 Aug 23  2019 \u001b[30m\u001b[41mcrontab\u001b[m\u001b[m\r\n",
      "-rwxr-xr-x   1 root   wheel      14990 Feb 25  2019 \u001b[31mcsdiagnose\u001b[m\u001b[m\r\n",
      "-rwxr-xr-x   1 root   wheel     542320 Aug 23  2019 \u001b[31mcsgather\u001b[m\u001b[m\r\n",
      "-rwxr-xr-x   1 root   wheel      24000 Aug 23  2019 \u001b[31mcsplit\u001b[m\u001b[m\r\n",
      "-rwxr-xr-x   1 root   wheel      37664 Jan 24 04:14 \u001b[31mcsreq\u001b[m\u001b[m\r\n",
      "-rwxr-xr-x   1 root   wheel      29760 Aug 23  2019 \u001b[31mcsrutil\u001b[m\u001b[m\r\n",
      "-rwxr-xr-x   1 root   wheel      18288 Aug 23  2019 \u001b[31mctags\u001b[m\u001b[m\r\n",
      "-rwxr-xr-x   1 root   wheel      18304 Aug 23  2019 \u001b[31mctf_insert\u001b[m\u001b[m\r\n",
      "-r-xr-xr-x   1 _uucp  wheel     133392 Aug 23  2019 \u001b[31mcu\u001b[m\u001b[m\r\n",
      "-r-xr-xr-x   1 root   wheel       3041 Jan  8 18:27 \u001b[31mcups-config\u001b[m\u001b[m\r\n",
      "-r-xr-xr-x   1 root   wheel      23040 Jan 24 04:14 \u001b[31mcupstestdsc\u001b[m\u001b[m\r\n",
      "-r-xr-xr-x   1 root   wheel      63360 Jan 24 04:14 \u001b[31mcupstestppd\u001b[m\u001b[m\r\n",
      "-rwxr-xr-x   1 root   wheel     185072 Aug 23  2019 \u001b[31mcurl\u001b[m\u001b[m\r\n",
      "-rwxr-xr-x   1 root   wheel       4089 Feb 25  2019 \u001b[31mcurl-config\u001b[m\u001b[m\r\n",
      "-rwxr-xr-x   1 root   wheel      23712 Aug 23  2019 \u001b[31mcut\u001b[m\u001b[m\r\n",
      "lrwxr-xr-x   1 root   wheel         59 Mar 19  2019 \u001b[35mcvaffinity\u001b[m\u001b[m -> /System/Library/Filesystems/acfs.fs/Contents/bin/cvaffinity\r\n",
      "lrwxr-xr-x   1 root   wheel         53 Mar 19  2019 \u001b[35mcvcp\u001b[m\u001b[m -> /System/Library/Filesystems/acfs.fs/Contents/bin/cvcp\r\n",
      "lrwxr-xr-x   1 root   wheel         56 Mar 19  2019 \u001b[35mcvmkdir\u001b[m\u001b[m -> /System/Library/Filesystems/acfs.fs/Contents/bin/cvmkdir\r\n",
      "lrwxr-xr-x   1 root   wheel         57 Mar 19  2019 \u001b[35mcvmkfile\u001b[m\u001b[m -> /System/Library/Filesystems/acfs.fs/Contents/bin/cvmkfile\r\n",
      "-rwxr-xr-x   1 root   wheel       7163 Feb 25  2019 \u001b[31mdappprof\u001b[m\u001b[m\r\n",
      "-rwxr-xr-x   1 root   wheel       7878 Feb 25  2019 \u001b[31mdapptrace\u001b[m\u001b[m\r\n",
      "-rwxr-xr-x   1 root   wheel     269904 Jan 24 04:14 \u001b[31mdarwinup\u001b[m\u001b[m\r\n",
      "-r-xr-xr-x   1 root   wheel    1986480 Aug 23  2019 \u001b[31mdb_archive\u001b[m\u001b[m\r\n",
      "-r-xr-xr-x   1 root   wheel    1990640 Aug 23  2019 \u001b[31mdb_checkpoint\u001b[m\u001b[m\r\n",
      "-r-xr-xr-x   1 root   wheel    2015200 Aug 23  2019 \u001b[31mdb_codegen\u001b[m\u001b[m\r\n",
      "-r-xr-xr-x   1 root   wheel    1990640 Aug 23  2019 \u001b[31mdb_deadlock\u001b[m\u001b[m\r\n",
      "-r-xr-xr-x   1 root   wheel    1994816 Aug 23  2019 \u001b[31mdb_dump\u001b[m\u001b[m\r\n",
      "-r-xr-xr-x   1 root   wheel    2003152 Aug 23  2019 \u001b[31mdb_hotbackup\u001b[m\u001b[m\r\n",
      "-r-xr-xr-x   1 root   wheel    2015840 Aug 23  2019 \u001b[31mdb_load\u001b[m\u001b[m\r\n",
      "-r-xr-xr-x   1 root   wheel    2066192 Aug 23  2019 \u001b[31mdb_printlog\u001b[m\u001b[m\r\n",
      "-r-xr-xr-x   1 root   wheel    1990736 Aug 23  2019 \u001b[31mdb_recover\u001b[m\u001b[m\r\n",
      "-r-xr-xr-x   1 root   wheel    1994704 Aug 23  2019 \u001b[31mdb_stat\u001b[m\u001b[m\r\n",
      "-r-xr-xr-x   1 root   wheel    1986480 Aug 23  2019 \u001b[31mdb_upgrade\u001b[m\u001b[m\r\n",
      "-r-xr-xr-x   1 root   wheel    1990592 Aug 23  2019 \u001b[31mdb_verify\u001b[m\u001b[m\r\n",
      "-rwxr-xr-x  35 root   wheel        811 Feb 25  2019 \u001b[31mdbicadmin\u001b[m\u001b[m\r\n",
      "-r-xr-xr-x   1 root   wheel       7195 Feb 25  2019 \u001b[31mdbicadmin5.18\u001b[m\u001b[m\r\n",
      "-rwxr-xr-x  35 root   wheel        811 Feb 25  2019 \u001b[31mdbilogstrip\u001b[m\u001b[m\r\n",
      "-r-xr-xr-x   1 root   wheel       1469 Feb 25  2019 \u001b[31mdbilogstrip5.18\u001b[m\u001b[m\r\n",
      "-rwxr-xr-x  35 root   wheel        811 Feb 25  2019 \u001b[31mdbiprof\u001b[m\u001b[m\r\n",
      "-r-xr-xr-x   1 root   wheel       6295 Feb 25  2019 \u001b[31mdbiprof5.18\u001b[m\u001b[m\r\n",
      "-rwxr-xr-x  35 root   wheel        811 Feb 25  2019 \u001b[31mdbiproxy\u001b[m\u001b[m\r\n",
      "-r-xr-xr-x   1 root   wheel       5479 Feb 25  2019 \u001b[31mdbiproxy5.18\u001b[m\u001b[m\r\n",
      "-rwxr-xr-x   1 root   wheel      46224 Aug 23  2019 \u001b[31mdc\u001b[m\u001b[m\r\n",
      "-rwxr-xr-x  35 root   wheel        811 Feb 25  2019 \u001b[31mdebinhex.pl\u001b[m\u001b[m\r\n",
      "-r-xr-xr-x   1 root   wheel       5882 Feb 25  2019 \u001b[31mdebinhex5.18.pl\u001b[m\u001b[m\r\n",
      "-rwxr-xr-x   1 root   wheel      40000 Jan 24 04:14 \u001b[31mdefaults\u001b[m\u001b[m\r\n",
      "-rwxr-xr-x   1 root   wheel    1880000 Aug 23  2019 \u001b[31mdelv\u001b[m\u001b[m\r\n",
      "-rwxr-xr-x   1 root   wheel      18288 Aug 23  2019 \u001b[31mdesdp\u001b[m\u001b[m\r\n",
      "-rwxr-xr-x   1 root   wheel       2391 Mar  7  2019 \u001b[31mdiagnose-fu\u001b[m\u001b[m\r\n",
      "-rwxr-xr-x   1 root   wheel     105616 Aug 23  2019 \u001b[31mdiff\u001b[m\u001b[m\r\n",
      "-rwxr-xr-x   1 root   wheel      37136 Aug 23  2019 \u001b[31mdiff3\u001b[m\u001b[m\r\n",
      "-rwxr-xr-x   1 root   wheel      41072 Aug 23  2019 \u001b[31mdiffstat\u001b[m\u001b[m\r\n",
      "-rwxr-xr-x   1 root   wheel    1881440 Aug 23  2019 \u001b[31mdig\u001b[m\u001b[m\r\n",
      "-rwxr-xr-x   1 root   wheel      18128 Aug 23  2019 \u001b[31mdirname\u001b[m\u001b[m\r\n",
      "-rwxr-xr-x   1 root   wheel       1290 Feb 25  2019 \u001b[31mdispqlen.d\u001b[m\u001b[m\r\n",
      "-rwxr-xr-x   1 root   wheel      34528 Aug 23  2019 \u001b[31mditto\u001b[m\u001b[m\r\n",
      "-rwxr-xr-x   1 root   wheel      28864 Aug 23  2019 \u001b[31mdmc\u001b[m\u001b[m\r\n",
      "-rwxr-xr-x   1 root   wheel      60896 Jan 24 04:14 \u001b[31mdns-sd\u001b[m\u001b[m\r\n",
      "-rwxr-xr-x   1 root   wheel     272128 Aug 23  2019 \u001b[31mdrutil\u001b[m\u001b[m\r\n",
      "-rwxr-xr-x   1 root   wheel      34144 Aug 23  2019 \u001b[31mdscacheutil\u001b[m\u001b[m\r\n",
      "-rwxr-xr-x   1 root   wheel     194304 Aug 23  2019 \u001b[31mdscl\u001b[m\u001b[m\r\n",
      "-rwxr-xr-x   1 root   wheel      18016 Aug 23  2019 \u001b[31mdserr\u001b[m\u001b[m\r\n",
      "-rwxr-xr-x   1 root   wheel      33280 Aug 23  2019 \u001b[31mdsexport\u001b[m\u001b[m\r\n",
      "-rwxr-xr-x   1 root   wheel      83872 Aug 23  2019 \u001b[31mdsimport\u001b[m\u001b[m\r\n",
      "-rwxr-xr-x   1 root   wheel      23648 Aug 23  2019 \u001b[31mdsmemberutil\u001b[m\u001b[m\r\n",
      "-rwxr-xr-x   1 root   wheel      18304 Aug 23  2019 \u001b[31mdsymutil\u001b[m\u001b[m\r\n",
      "-rwxr-xr-x   1 root   wheel      30607 Feb 25  2019 \u001b[31mdtruss\u001b[m\u001b[m\r\n",
      "-rwxr-xr-x   1 root   wheel      23600 Aug 23  2019 \u001b[31mdu\u001b[m\u001b[m\r\n",
      "-rwxr-xr-x   1 root   wheel      18304 Aug 23  2019 \u001b[31mdwarfdump\u001b[m\u001b[m\r\n",
      "-rwxr-xr-x   2 root   wheel        925 Feb 25  2019 \u001b[31measy_install\u001b[m\u001b[m\r\n",
      "-rwxr-xr-x   1 root   wheel        458 Feb 25  2019 \u001b[31measy_install-2.7\u001b[m\u001b[m\r\n",
      "-rwxr-xr-x   1 root   wheel      33952 Aug 23  2019 \u001b[31megrep\u001b[m\u001b[m\r\n",
      "-r-xr-xr-x   1 root   wheel  117164432 Aug 23  2019 \u001b[31memacs\u001b[m\u001b[m\r\n",
      "-rwxr-xr-x   1 root   wheel    3173856 Aug 23  2019 \u001b[31memacs-undumped\u001b[m\u001b[m\r\n",
      "-rwxr-xr-x   1 root   wheel      32960 Aug 23  2019 \u001b[31memacsclient\u001b[m\u001b[m\r\n",
      "-rwxr-xr-x  38 root   wheel        811 Feb 26  2019 \u001b[31menc2xs\u001b[m\u001b[m\r\n",
      "-rwxr-xr-x   1 root   wheel      39189 Feb 26  2019 \u001b[31menc2xs5.18\u001b[m\u001b[m\r\n",
      "-rwxr-xr-x   1 root   wheel      28800 Aug 23  2019 \u001b[31mencode_keychange\u001b[m\u001b[m\r\n",
      "-rwxr-xr-x   1 root   wheel      23504 Aug 23  2019 \u001b[31menv\u001b[m\u001b[m\r\n",
      "-rwxr-xr-x   1 root   wheel     140976 Aug 23  2019 \u001b[31meqn\u001b[m\u001b[m\r\n",
      "-r-xr-xr-x   1 root   wheel       4892 Feb 25  2019 \u001b[31merb\u001b[m\u001b[m\r\n",
      "-rwxr-xr-x   1 root   wheel       4516 Feb 25  2019 \u001b[31merrinfo\u001b[m\u001b[m\r\n",
      "-rwxr-xr-x   1 root   wheel     107376 Aug 23  2019 \u001b[31metags\u001b[m\u001b[m\r\n",
      "lrwxr-xr-x   1 root   wheel          3 Mar 19  2019 \u001b[35mex\u001b[m\u001b[m -> vim\r\n",
      "-rwxr-xr-x   1 root   wheel       5115 Feb 25  2019 \u001b[31mexecsnoop\u001b[m\u001b[m\r\n",
      "-rwxr-xr-x   1 root   wheel      18576 Aug 23  2019 \u001b[31mexpand\u001b[m\u001b[m\r\n",
      "-r-xr-xr-x   1 root   wheel      51648 Aug 23  2019 \u001b[31mexpect\u001b[m\u001b[m\r\n",
      "lrwxr-xr-x   1 root   wheel         78 Mar 19  2019 \u001b[35mextcheck\u001b[m\u001b[m -> /System/Library/Frameworks/JavaVM.framework/Versions/Current/Commands/extcheck\r\n",
      "-rwxr-xr-x  35 root   wheel        811 Feb 25  2019 \u001b[31meyapp\u001b[m\u001b[m\r\n",
      "-r-xr-xr-x   1 root   wheel      12841 Feb 25  2019 \u001b[31meyapp5.18\u001b[m\u001b[m\r\n",
      "-rwxr-xr-x   1 root   wheel      17808 Aug 23  2019 \u001b[31mfalse\u001b[m\u001b[m\r\n",
      "-rwxr-xr-x  15 root   wheel        190 Feb 25  2019 \u001b[31mfc\u001b[m\u001b[m\r\n",
      "-rwxr-xr-x   1 root   wheel       2668 Feb 25  2019 \u001b[31mfddist\u001b[m\u001b[m\r\n",
      "-rwxr-xr-x   1 root   wheel     280032 Jan 24 04:14 \u001b[31mfdesetup\u001b[m\u001b[m\r\n",
      "-rwxr-xr-x  15 root   wheel        190 Feb 25  2019 \u001b[31mfg\u001b[m\u001b[m\r\n",
      "-rwxr-xr-x   1 root   wheel      33952 Aug 23  2019 \u001b[31mfgrep\u001b[m\u001b[m\r\n",
      "-rwxr-xr-x   1 root   wheel     258912 Aug 23  2019 \u001b[31mfile\u001b[m\u001b[m\r\n",
      "-rwxr-xr-x   1 root   wheel        272 Feb 25  2019 \u001b[31mfilebyproc.d\u001b[m\u001b[m\r\n",
      "-rwxr-xr-x   1 root   wheel     150576 Jan 24 04:14 \u001b[31mfiltercalltree\u001b[m\u001b[m\r\n",
      "-rwxr-xr-x   1 root   wheel      51808 Aug 23  2019 \u001b[31mfind\u001b[m\u001b[m\r\n",
      "-rwxr-xr-x  38 root   wheel        811 Feb 26  2019 \u001b[31mfind2perl\u001b[m\u001b[m\r\n",
      "-rwxr-xr-x   1 root   wheel      23634 Feb 26  2019 \u001b[31mfind2perl5.18\u001b[m\u001b[m\r\n",
      "-rwxr-xr-x  35 root   wheel        811 Feb 25  2019 \u001b[31mfindrule\u001b[m\u001b[m\r\n",
      "-r-xr-xr-x   1 root   wheel       3418 Feb 25  2019 \u001b[31mfindrule5.18\u001b[m\u001b[m\r\n",
      "-rwxr-xr-x   1 root   wheel      33968 Aug 23  2019 \u001b[31mfinger\u001b[m\u001b[m\r\n",
      "-rwxr-xr-x   1 root   wheel      15523 Feb 25  2019 \u001b[31mfixproc\u001b[m\u001b[m\r\n",
      "-rwxr-xr-x   1 root   wheel      18288 Aug 23  2019 \u001b[31mflex\u001b[m\u001b[m\r\n",
      "-rwxr-xr-x   1 root   wheel      18288 Aug 23  2019 \u001b[31mflex++\u001b[m\u001b[m\r\n",
      "-rwxr-xr-x   1 root   wheel      23216 Aug 23  2019 \u001b[31mfmt\u001b[m\u001b[m\r\n",
      "-rwxr-xr-x   1 root   wheel      18800 Aug 23  2019 \u001b[31mfold\u001b[m\u001b[m\r\n",
      "lrwxr-xr-x   1 root   wheel        126 Mar 19  2019 \u001b[35mfontrestore\u001b[m\u001b[m -> ../../System/Library/Frameworks/ApplicationServices.framework/Versions/A/Frameworks/ATS.framework/Versions/A/Support/fontmover\r\n",
      "-rwxr-xr-x   1 root   wheel     157776 Aug 23  2019 \u001b[31mfootprint\u001b[m\u001b[m\r\n",
      "-rwxr-xr-x  35 root   wheel        811 Feb 25  2019 \u001b[31mformat-sql\u001b[m\u001b[m\r\n",
      "-r-xr-xr-x   1 root   wheel        448 Feb 25  2019 \u001b[31mformat-sql5.18\u001b[m\u001b[m\r\n",
      "-rwxr-xr-x   1 root   wheel      18768 Aug 23  2019 \u001b[31mfrom\u001b[m\u001b[m\r\n",
      "-rwxr-xr-x   1 root   wheel      60368 Jan 24 04:14 \u001b[31mfs_usage\u001b[m\u001b[m\r\n",
      "-rwxr-xr-x   1 root   wheel      35440 Aug 23  2019 \u001b[31mfunzip\u001b[m\u001b[m\r\n",
      "-r-xr-xr-x   1 root   wheel       2610 Feb 25  2019 \u001b[31mfuser\u001b[m\u001b[m\r\n",
      "-rwxr-xr-x   1 root   wheel      33936 Aug 23  2019 \u001b[31mfwkdp\u001b[m\u001b[m\r\n",
      "-rwxr-xr-x   1 root   wheel      42352 Aug 23  2019 \u001b[31mfwkpfv\u001b[m\u001b[m\r\n",
      "-rwxr-xr-x   1 root   wheel      18288 Aug 23  2019 \u001b[31mg++\u001b[m\u001b[m\r\n",
      "-rwxr-xr-x   1 root   wheel      18320 Aug 23  2019 \u001b[31mgatherheaderdoc\u001b[m\u001b[m\r\n",
      "-rwxr-xr-x   1 root   wheel      18288 Aug 23  2019 \u001b[31mgcc\u001b[m\u001b[m\r\n",
      "-rwxr-xr-x   1 root   wheel     164752 Jan 24 04:14 \u001b[31mgcore\u001b[m\u001b[m\r\n",
      "-rwxr-xr-x   1 root   wheel      18288 Aug 23  2019 \u001b[31mgcov\u001b[m\u001b[m\r\n",
      "-rwxr-xr-x   1 root   wheel       7198 Feb 25  2019 \u001b[31mgdiffmk\u001b[m\u001b[m\r\n",
      "-r-xr-xr-x   1 root   wheel        596 Feb 25  2019 \u001b[31mgem\u001b[m\u001b[m\r\n",
      "-r-xr-xr-x   1 root   wheel      78936 Feb 25  2019 \u001b[31mgen_bridge_metadata\u001b[m\u001b[m\r\n",
      "-rwxr-xr-x   1 root   wheel      27488 Aug 23  2019 \u001b[31mgencat\u001b[m\u001b[m\r\n",
      "-rwxr-xr-x   1 root   wheel      18304 Aug 23  2019 \u001b[31mgenstrings\u001b[m\u001b[m\r\n",
      "-rwxr-xr-x   1 root   wheel      63824 Jan 24 04:14 \u001b[31mgetconf\u001b[m\u001b[m\r\n",
      "-rwxr-xr-x   1 root   wheel      18000 Aug 23  2019 \u001b[31mgetopt\u001b[m\u001b[m\r\n",
      "-rwxr-xr-x  15 root   wheel        190 Feb 25  2019 \u001b[31mgetopts\u001b[m\u001b[m\r\n",
      "-rwxr-xr-x   1 root   wheel      18288 Aug 23  2019 \u001b[31mgit\u001b[m\u001b[m\r\n",
      "-rwxr-xr-x   1 root   wheel      18320 Aug 23  2019 \u001b[31mgit-cvsserver\u001b[m\u001b[m\r\n",
      "-rwxr-xr-x   1 root   wheel      18320 Aug 23  2019 \u001b[31mgit-receive-pack\u001b[m\u001b[m\r\n",
      "-rwxr-xr-x   1 root   wheel      18304 Aug 23  2019 \u001b[31mgit-shell\u001b[m\u001b[m\r\n",
      "-rwxr-xr-x   1 root   wheel      18320 Aug 23  2019 \u001b[31mgit-upload-archive\u001b[m\u001b[m\r\n",
      "-rwxr-xr-x   1 root   wheel      18320 Aug 23  2019 \u001b[31mgit-upload-pack\u001b[m\u001b[m\r\n",
      "-rwxr-xr-x   1 root   wheel      18288 Aug 23  2019 \u001b[31mgm4\u001b[m\u001b[m\r\n",
      "-rwxr-xr-x   1 root   wheel      18304 Aug 23  2019 \u001b[31mgnumake\u001b[m\u001b[m\r\n",
      "-rwxr-xr-x   1 root   wheel      18288 Aug 23  2019 \u001b[31mgperf\u001b[m\u001b[m\r\n",
      "-rwxr-xr-x   1 root   wheel      33952 Aug 23  2019 \u001b[31mgrep\u001b[m\u001b[m\r\n",
      "-rwxr-xr-x   1 root   wheel      64048 Aug 23  2019 \u001b[31mgrn\u001b[m\u001b[m\r\n",
      "-rwxr-xr-x   1 root   wheel      83296 Aug 23  2019 \u001b[31mgrodvi\u001b[m\u001b[m\r\n",
      "-rwxr-xr-x   1 root   wheel      68272 Aug 23  2019 \u001b[31mgroff\u001b[m\u001b[m\r\n",
      "-rwxr-xr-x   1 root   wheel       7074 Feb 25  2019 \u001b[31mgroffer\u001b[m\u001b[m\r\n",
      "-rwxr-xr-x   1 root   wheel       2471 Feb 25  2019 \u001b[31mgrog\u001b[m\u001b[m\r\n",
      "-rwxr-xr-x   1 root   wheel      86928 Aug 23  2019 \u001b[31mgrolbp\u001b[m\u001b[m\r\n",
      "-rwxr-xr-x   1 root   wheel      82848 Aug 23  2019 \u001b[31mgrolj4\u001b[m\u001b[m\r\n",
      "-rwxr-xr-x   1 root   wheel     116800 Aug 23  2019 \u001b[31mgrops\u001b[m\u001b[m\r\n",
      "-rwxr-xr-x   1 root   wheel      83024 Aug 23  2019 \u001b[31mgrotty\u001b[m\u001b[m\r\n",
      "-rwxr-xr-x   1 root   wheel      23264 Aug 23  2019 \u001b[31mgroups\u001b[m\u001b[m\r\n",
      "-rwxr-xr-x   1 root   wheel      53280 Aug 23  2019 \u001b[31mgunzip\u001b[m\u001b[m\r\n",
      "-rwxr-xr-x   1 root   wheel      53280 Aug 23  2019 \u001b[31mgzcat\u001b[m\u001b[m\r\n",
      "-rwxr-xr-x   1 root   wheel       4085 Feb 25  2019 \u001b[31mgzexe\u001b[m\u001b[m\r\n",
      "-rwxr-xr-x   1 root   wheel      47120 Aug 23  2019 \u001b[31mgzip\u001b[m\u001b[m\r\n",
      "-rwxr-xr-x  38 root   wheel        811 Feb 26  2019 \u001b[31mh2ph\u001b[m\u001b[m\r\n",
      "-rwxr-xr-x   1 root   wheel      28167 Feb 26  2019 \u001b[31mh2ph5.18\u001b[m\u001b[m\r\n",
      "-rwxr-xr-x  38 root   wheel        811 Feb 26  2019 \u001b[31mh2xs\u001b[m\u001b[m\r\n",
      "-rwxr-xr-x   1 root   wheel      60725 Feb 26  2019 \u001b[31mh2xs5.18\u001b[m\u001b[m\r\n",
      "-rwxr-xr-x  15 root   wheel        190 Feb 25  2019 \u001b[31mhash\u001b[m\u001b[m\r\n",
      "-rwxr-xr-x   1 root   wheel      17936 Jan 24 04:14 \u001b[31mhdid\u001b[m\u001b[m\r\n",
      "-rwxr-xr-x   1 root   wheel     349536 Jan 24 04:14 \u001b[31mhdiutil\u001b[m\u001b[m\r\n",
      "-rwxr-xr-x   1 root   wheel      18320 Aug 23  2019 \u001b[31mhdxml2manxml\u001b[m\u001b[m\r\n",
      "-rwxr-xr-x   1 root   wheel      18928 Aug 23  2019 \u001b[31mhead\u001b[m\u001b[m\r\n",
      "-rwxr-xr-x   1 root   wheel      18320 Aug 23  2019 \u001b[31mheaderdoc2html\u001b[m\u001b[m\r\n",
      "-rwxr-xr-x   1 root   wheel      97536 Jan 24 04:14 \u001b[31mheap\u001b[m\u001b[m\r\n",
      "-rwxr-xr-x   1 root   wheel     108304 Jan 24 04:14 \u001b[31mheap32\u001b[m\u001b[m\r\n",
      "-rwxr-xr-x   1 root   wheel      32848 Aug 23  2019 \u001b[31mhexdump\u001b[m\u001b[m\r\n",
      "-rwxr-xr-x   1 root   wheel      38944 Jan 24 04:14 \u001b[31mhidutil\u001b[m\u001b[m\r\n",
      "-rwxr-xr-x   1 root   wheel     105520 Aug 23  2019 \u001b[31mhiutil\u001b[m\u001b[m\r\n",
      "-rwxr-xr-x   1 root   wheel    1868944 Aug 23  2019 \u001b[31mhost\u001b[m\u001b[m\r\n",
      "-rwxr-xr-x   1 root   wheel      43136 Jan 24 04:14 \u001b[31mhostinfo\u001b[m\u001b[m\r\n",
      "-rwxr-xr-x   1 root   wheel       1939 Feb 25  2019 \u001b[31mhotspot.d\u001b[m\u001b[m\r\n",
      "-rwxr-xr-x   1 root   wheel     122640 Aug 23  2019 \u001b[31mhpftodit\u001b[m\u001b[m\r\n",
      "-rwxr-xr-x   1 root   wheel      96528 Jan 24 04:14 \u001b[31mhpmdiagnose\u001b[m\u001b[m\r\n",
      "-rwxr-xr-x  35 root   wheel        811 Feb 25  2019 \u001b[31mhtmltree\u001b[m\u001b[m\r\n",
      "-r-xr-xr-x   1 root   wheel       1177 Feb 25  2019 \u001b[31mhtmltree5.18\u001b[m\u001b[m\r\n",
      "-rwxr-xr-x   1 root   wheel      18288 Aug 23  2019 \u001b[31mibtool\u001b[m\u001b[m\r\n",
      "-rwxr-xr-x   1 root   wheel      27968 Aug 23  2019 \u001b[31miconutil\u001b[m\u001b[m\r\n",
      "-rwxr-xr-x   1 root   wheel      32192 Aug 23  2019 \u001b[31miconv\u001b[m\u001b[m\r\n",
      "-rwxr-xr-x   1 root   wheel      18288 Aug 23  2019 \u001b[31mictool\u001b[m\u001b[m\r\n",
      "-rwxr-xr-x   1 root   wheel      23264 Aug 23  2019 \u001b[31mid\u001b[m\u001b[m\r\n",
      "-rwxr-xr-x   4 root   wheel        925 Feb 25  2019 \u001b[31midle\u001b[m\u001b[m\r\n",
      "lrwxr-xr-x   1 root   wheel         73 Mar 19  2019 \u001b[35midle2.7\u001b[m\u001b[m -> ../../System/Library/Frameworks/Python.framework/Versions/2.7/bin/idle2.7\r\n",
      "lrwxr-xr-x   1 root   wheel         74 Mar 19  2019 \u001b[35midlj\u001b[m\u001b[m -> /System/Library/Frameworks/JavaVM.framework/Versions/Current/Commands/idlj\r\n",
      "-rwxr-xr-x   1 root   wheel       8556 Mar 12  2019 \u001b[31mimptrace\u001b[m\u001b[m\r\n",
      "-rwxr-xr-x   1 root   wheel      18288 Aug 23  2019 \u001b[31mindent\u001b[m\u001b[m\r\n",
      "-rwxr-xr-x   1 root   wheel      44400 Aug 23  2019 \u001b[31mindxbib\u001b[m\u001b[m\r\n",
      "-rwxr-xr-x   1 root   wheel     175136 Aug 23  2019 \u001b[31minfo\u001b[m\u001b[m\r\n",
      "-rwxr-xr-x   1 root   wheel      54624 Aug 23  2019 \u001b[31minfocmp\u001b[m\u001b[m\r\n",
      "-rwxr-xr-x   1 root   wheel      55376 Aug 23  2019 \u001b[31minfokey\u001b[m\u001b[m\r\n",
      "lrwxr-xr-x   1 root   wheel          3 Mar 19  2019 \u001b[35minfotocap\u001b[m\u001b[m -> tic\r\n",
      "-rwxr-xr-x   1 root   wheel      28576 Aug 23  2019 \u001b[31minstall\u001b[m\u001b[m\r\n",
      "-rwxr-xr-x   1 root   wheel      60032 Aug 23  2019 \u001b[31minstall-info\u001b[m\u001b[m\r\n",
      "-rwxr-xr-x   1 root   wheel      18320 Aug 23  2019 \u001b[31minstall_name_tool\u001b[m\u001b[m\r\n",
      "-rwxr-xr-x  38 root   wheel        811 Feb 26  2019 \u001b[31minstmodsh\u001b[m\u001b[m\r\n",
      "-rwxr-xr-x   1 root   wheel       4288 Feb 26  2019 \u001b[31minstmodsh5.18\u001b[m\u001b[m\r\n",
      "-rwxr-xr-x   1 root   wheel      18320 Aug 23  2019 \u001b[31minstruments\u001b[m\u001b[m\r\n",
      "-rwxr-xr-x   1 root   wheel       1976 Feb 25  2019 \u001b[31miofile.d\u001b[m\u001b[m\r\n",
      "-rwxr-xr-x   1 root   wheel       1573 Feb 25  2019 \u001b[31miofileb.d\u001b[m\u001b[m\r\n",
      "-rwxr-xr-x   1 root   wheel       6604 Feb 25  2019 \u001b[31miopattern\u001b[m\u001b[m\r\n",
      "-rwxr-xr-x   1 root   wheel       5946 Feb 25  2019 \u001b[31miopending\u001b[m\u001b[m\r\n",
      "-rwxr-xr-x   1 root   wheel      12137 Feb 25  2019 \u001b[31miosnoop\u001b[m\u001b[m\r\n",
      "-rwxr-xr-x   1 root   wheel      11884 Feb 25  2019 \u001b[31miotop\u001b[m\u001b[m\r\n",
      "-rwxr-xr-x  35 root   wheel        811 Feb 25  2019 \u001b[31mip2cc\u001b[m\u001b[m\r\n",
      "-r-xr-xr-x   1 root   wheel       2116 Feb 25  2019 \u001b[31mip2cc5.18\u001b[m\u001b[m\r\n",
      "-rwxr-xr-x  35 root   wheel        811 Feb 25  2019 \u001b[31mipcount\u001b[m\u001b[m\r\n",
      "-r-xr-xr-x   1 root   wheel       3728 Feb 25  2019 \u001b[31mipcount5.18\u001b[m\u001b[m\r\n",
      "-rwxr-xr-x   1 root   wheel      18576 Aug 23  2019 \u001b[31mipcrm\u001b[m\u001b[m\r\n",
      "-rwxr-xr-x   1 root   wheel      26880 Aug 23  2019 \u001b[31mipcs\u001b[m\u001b[m\r\n",
      "-r-xr-xr-x   1 root   wheel      47216 Jan 24 04:14 \u001b[31mippfind\u001b[m\u001b[m\r\n",
      "-r-xr-xr-x   1 root   wheel      92016 Jan 24 04:14 \u001b[31mipptool\u001b[m\u001b[m\r\n",
      "-rwxr-xr-x   1 root   wheel      18304 Aug 23  2019 \u001b[31miprofiler\u001b[m\u001b[m\r\n",
      "-rwxr-xr-x  35 root   wheel        811 Feb 25  2019 \u001b[31miptab\u001b[m\u001b[m\r\n",
      "-r-xr-xr-x   1 root   wheel        986 Feb 25  2019 \u001b[31miptab5.18\u001b[m\u001b[m\r\n",
      "-r-xr-xr-x   1 root   wheel        240 Feb 25  2019 \u001b[31mirb\u001b[m\u001b[m\r\n",
      "lrwxr-xr-x   1 root   wheel         73 Mar 19  2019 \u001b[35mjar\u001b[m\u001b[m -> /System/Library/Frameworks/JavaVM.framework/Versions/Current/Commands/jar\r\n",
      "lrwxr-xr-x   1 root   wheel         79 Mar 19  2019 \u001b[35mjarsigner\u001b[m\u001b[m -> /System/Library/Frameworks/JavaVM.framework/Versions/Current/Commands/jarsigner\r\n",
      "lrwxr-xr-x   1 root   wheel         74 Mar 19  2019 \u001b[35mjava\u001b[m\u001b[m -> /System/Library/Frameworks/JavaVM.framework/Versions/Current/Commands/java\r\n",
      "lrwxr-xr-x   1 root   wheel         75 Mar 19  2019 \u001b[35mjavac\u001b[m\u001b[m -> /System/Library/Frameworks/JavaVM.framework/Versions/Current/Commands/javac\r\n",
      "lrwxr-xr-x   1 root   wheel         77 Mar 19  2019 \u001b[35mjavadoc\u001b[m\u001b[m -> /System/Library/Frameworks/JavaVM.framework/Versions/Current/Commands/javadoc\r\n",
      "lrwxr-xr-x   1 root   wheel         75 Mar 19  2019 \u001b[35mjavah\u001b[m\u001b[m -> /System/Library/Frameworks/JavaVM.framework/Versions/Current/Commands/javah\r\n",
      "lrwxr-xr-x   1 root   wheel         75 Mar 19  2019 \u001b[35mjavap\u001b[m\u001b[m -> /System/Library/Frameworks/JavaVM.framework/Versions/Current/Commands/javap\r\n",
      "lrwxr-xr-x   1 root   wheel         82 Mar 19  2019 \u001b[35mjavapackager\u001b[m\u001b[m -> /System/Library/Frameworks/JavaVM.framework/Versions/Current/Commands/javapackager\r\n",
      "lrwxr-xr-x   1 root   wheel         76 Mar 19  2019 \u001b[35mjavaws\u001b[m\u001b[m -> /System/Library/Frameworks/JavaVM.framework/Versions/Current/Commands/javaws\r\n",
      "lrwxr-xr-x   1 root   wheel         74 Mar 19  2019 \u001b[35mjcmd\u001b[m\u001b[m -> /System/Library/Frameworks/JavaVM.framework/Versions/Current/Commands/jcmd\r\n",
      "lrwxr-xr-x   1 root   wheel         78 Mar 19  2019 \u001b[35mjconsole\u001b[m\u001b[m -> /System/Library/Frameworks/JavaVM.framework/Versions/Current/Commands/jconsole\r\n",
      "lrwxr-xr-x   1 root   wheel         78 Mar 19  2019 \u001b[35mjcontrol\u001b[m\u001b[m -> /System/Library/Frameworks/JavaVM.framework/Versions/Current/Commands/jcontrol\r\n",
      "lrwxr-xr-x   1 root   wheel         73 Mar 19  2019 \u001b[35mjdb\u001b[m\u001b[m -> /System/Library/Frameworks/JavaVM.framework/Versions/Current/Commands/jdb\r\n",
      "lrwxr-xr-x   1 root   wheel         75 Mar 19  2019 \u001b[35mjdeps\u001b[m\u001b[m -> /System/Library/Frameworks/JavaVM.framework/Versions/Current/Commands/jdeps\r\n",
      "lrwxr-xr-x   1 root   wheel         74 Mar 19  2019 \u001b[35mjhat\u001b[m\u001b[m -> /System/Library/Frameworks/JavaVM.framework/Versions/Current/Commands/jhat\r\n",
      "lrwxr-xr-x   1 root   wheel         75 Mar 19  2019 \u001b[35mjhsdb\u001b[m\u001b[m -> /System/Library/Frameworks/JavaVM.framework/Versions/Current/Commands/jhsdb\r\n",
      "lrwxr-xr-x   1 root   wheel         76 Mar 19  2019 \u001b[35mjimage\u001b[m\u001b[m -> /System/Library/Frameworks/JavaVM.framework/Versions/Current/Commands/jimage\r\n",
      "lrwxr-xr-x   1 root   wheel         75 Mar 19  2019 \u001b[35mjinfo\u001b[m\u001b[m -> /System/Library/Frameworks/JavaVM.framework/Versions/Current/Commands/jinfo\r\n",
      "lrwxr-xr-x   1 root   wheel         73 Mar 19  2019 \u001b[35mjjs\u001b[m\u001b[m -> /System/Library/Frameworks/JavaVM.framework/Versions/Current/Commands/jjs\r\n",
      "lrwxr-xr-x   1 root   wheel         74 Mar 19  2019 \u001b[35mjmap\u001b[m\u001b[m -> /System/Library/Frameworks/JavaVM.framework/Versions/Current/Commands/jmap\r\n",
      "lrwxr-xr-x   1 root   wheel         73 Mar 19  2019 \u001b[35mjmc\u001b[m\u001b[m -> /System/Library/Frameworks/JavaVM.framework/Versions/Current/Commands/jmc\r\n",
      "-rwxr-xr-x  15 root   wheel        190 Feb 25  2019 \u001b[31mjobs\u001b[m\u001b[m\r\n",
      "-rwxr-xr-x   1 root   wheel      23504 Aug 23  2019 \u001b[31mjoin\u001b[m\u001b[m\r\n",
      "-rwxr-xr-x   1 root   wheel      23088 Aug 23  2019 \u001b[31mjot\u001b[m\u001b[m\r\n",
      "lrwxr-xr-x   1 root   wheel         73 Mar 19  2019 \u001b[35mjps\u001b[m\u001b[m -> /System/Library/Frameworks/JavaVM.framework/Versions/Current/Commands/jps\r\n",
      "lrwxr-xr-x   1 root   wheel         80 Mar 19  2019 \u001b[35mjrunscript\u001b[m\u001b[m -> /System/Library/Frameworks/JavaVM.framework/Versions/Current/Commands/jrunscript\r\n",
      "lrwxr-xr-x   1 root   wheel         79 Mar 19  2019 \u001b[35mjsadebugd\u001b[m\u001b[m -> /System/Library/Frameworks/JavaVM.framework/Versions/Current/Commands/jsadebugd\r\n",
      "lrwxr-xr-x   1 root   wheel         76 Mar 19  2019 \u001b[35mjshell\u001b[m\u001b[m -> /System/Library/Frameworks/JavaVM.framework/Versions/Current/Commands/jshell\r\n",
      "-rwxr-xr-x  38 root   wheel        811 Feb 26  2019 \u001b[31mjson_pp\u001b[m\u001b[m\r\n",
      "-rwxr-xr-x   1 root   wheel       3953 Feb 26  2019 \u001b[31mjson_pp5.18\u001b[m\u001b[m\r\n",
      "lrwxr-xr-x   1 root   wheel         76 Mar 19  2019 \u001b[35mjstack\u001b[m\u001b[m -> /System/Library/Frameworks/JavaVM.framework/Versions/Current/Commands/jstack\r\n",
      "lrwxr-xr-x   1 root   wheel         75 Mar 19  2019 \u001b[35mjstat\u001b[m\u001b[m -> /System/Library/Frameworks/JavaVM.framework/Versions/Current/Commands/jstat\r\n",
      "lrwxr-xr-x   1 root   wheel         76 Mar 19  2019 \u001b[35mjstatd\u001b[m\u001b[m -> /System/Library/Frameworks/JavaVM.framework/Versions/Current/Commands/jstatd\r\n",
      "lrwxr-xr-x   1 root   wheel         79 Mar 19  2019 \u001b[35mjvisualvm\u001b[m\u001b[m -> /System/Library/Frameworks/JavaVM.framework/Versions/Current/Commands/jvisualvm\r\n",
      "-rwxr-xr-x   1 root   wheel      51392 Aug 23  2019 \u001b[31mkcc\u001b[m\u001b[m\r\n",
      "-rwxr-xr-x   1 root   wheel      29024 Aug 23  2019 \u001b[31mkdestroy\u001b[m\u001b[m\r\n",
      "-rwxr-xr-x   1 root   wheel     200656 Jan 24 04:14 \u001b[31mkextutil\u001b[m\u001b[m\r\n",
      "lrwxr-xr-x   1 root   wheel         77 Mar 19  2019 \u001b[35mkeytool\u001b[m\u001b[m -> /System/Library/Frameworks/JavaVM.framework/Versions/Current/Commands/keytool\r\n",
      "-rwxr-xr-x   1 root   wheel      29968 Aug 23  2019 \u001b[31mkgetcred\u001b[m\u001b[m\r\n",
      "-rwxr-xr-x   1 root   wheel       1621 Feb 25  2019 \u001b[31mkill.d\u001b[m\u001b[m\r\n",
      "-rwxr-xr-x   1 root   wheel      23984 Aug 23  2019 \u001b[31mkillall\u001b[m\u001b[m\r\n",
      "-rwxr-xr-x   1 root   wheel      44224 Aug 23  2019 \u001b[31mkinit\u001b[m\u001b[m\r\n",
      "lrwxr-xr-x   1 root   wheel          3 Mar 19  2019 \u001b[35mklist\u001b[m\u001b[m -> kcc\r\n",
      "-rwxr-xr-x   1 root   wheel      30176 Aug 23  2019 \u001b[31mkpasswd\u001b[m\u001b[m\r\n",
      "-rwxr-xr-x   1 root   wheel       3252 Feb 25  2019 \u001b[31mkrb5-config\u001b[m\u001b[m\r\n",
      "lrwxr-xr-x   1 root   wheel          3 Mar 19  2019 \u001b[35mkswitch\u001b[m\u001b[m -> kcc\r\n",
      "-rwxr-xr-x   1 root   wheel      73616 Aug 23  2019 \u001b[31mktrace\u001b[m\u001b[m\r\n",
      "-rwxr-xr-x   1 root   wheel      18624 Aug 23  2019 \u001b[31mlam\u001b[m\u001b[m\r\n",
      "-rwxr-xr-x   1 root   wheel      23392 Aug 23  2019 \u001b[31mlast\u001b[m\u001b[m\r\n",
      "-rwxr-xr-x   1 root   wheel      18928 Aug 23  2019 \u001b[31mlastcomm\u001b[m\u001b[m\r\n",
      "-rwxr-xr-x   1 root   wheel       2297 Feb 25  2019 \u001b[31mlastwords\u001b[m\u001b[m\r\n",
      "-rwxr-xr-x   1 root   wheel     102768 Jan 24 04:14 \u001b[31mlatency\u001b[m\u001b[m\r\n",
      "-rwxr-xr-x   1 root   wheel     853232 Aug 23  2019 \u001b[31mlayerutil\u001b[m\u001b[m\r\n",
      "-rwxr-xr-x   1 root   wheel      18272 Aug 23  2019 \u001b[31mld\u001b[m\u001b[m\r\n",
      "lrwxr-xr-x   1 root   wheel         10 Mar 19  2019 \u001b[35mldapadd\u001b[m\u001b[m -> ldapmodify\r\n",
      "-rwxr-xr-x   1 root   wheel     301376 Jan 24 04:14 \u001b[31mldapcompare\u001b[m\u001b[m\r\n",
      "-rwxr-xr-x   1 root   wheel     305408 Jan 24 04:14 \u001b[31mldapdelete\u001b[m\u001b[m\r\n",
      "-rwxr-xr-x   1 root   wheel     305488 Jan 24 04:14 \u001b[31mldapexop\u001b[m\u001b[m\r\n",
      "-rwxr-xr-x   1 root   wheel     314000 Jan 24 04:14 \u001b[31mldapmodify\u001b[m\u001b[m\r\n",
      "-rwxr-xr-x   1 root   wheel     301312 Jan 24 04:14 \u001b[31mldapmodrdn\u001b[m\u001b[m\r\n",
      "-rwxr-xr-x   1 root   wheel     301216 Jan 24 04:14 \u001b[31mldappasswd\u001b[m\u001b[m\r\n",
      "-rwxr-xr-x   1 root   wheel     329808 Jan 24 04:14 \u001b[31mldapsearch\u001b[m\u001b[m\r\n",
      "-rwxr-xr-x   1 root   wheel     251840 Jan 24 04:14 \u001b[31mldapurl\u001b[m\u001b[m\r\n",
      "-rwxr-xr-x   1 root   wheel     301312 Jan 24 04:14 \u001b[31mldapwhoami\u001b[m\u001b[m\r\n",
      "-rwxr-xr-x   1 root   wheel     163424 Jan 24 04:14 \u001b[31mleaks\u001b[m\u001b[m\r\n",
      "-rwxr-xr-x   1 root   wheel     194736 Jan 24 04:14 \u001b[31mleaks32\u001b[m\u001b[m\r\n",
      "-r-xr-xr-x   1 root   wheel      18416 Aug 23  2019 \u001b[31mleave\u001b[m\u001b[m\r\n",
      "-rwxr-xr-x   1 root   wheel     133856 Aug 23  2019 \u001b[31mless\u001b[m\u001b[m\r\n",
      "-rwxr-xr-x   1 root   wheel      18320 Aug 23  2019 \u001b[31mlessecho\u001b[m\u001b[m\r\n",
      "-rwxr-xr-x   1 root   wheel      18288 Aug 23  2019 \u001b[31mlex\u001b[m\u001b[m\r\n",
      "-rwxr-xr-x  38 root   wheel        811 Feb 26  2019 \u001b[31mlibnetcfg\u001b[m\u001b[m\r\n",
      "-rwxr-xr-x   1 root   wheel      15754 Feb 26  2019 \u001b[31mlibnetcfg5.18\u001b[m\u001b[m\r\n",
      "-rwxr-xr-x   1 root   wheel      18304 Aug 23  2019 \u001b[31mlibtool\u001b[m\u001b[m\r\n",
      "-rwxr-xr-x   1 root   wheel      18288 Aug 23  2019 \u001b[31mlipo\u001b[m\u001b[m\r\n",
      "-rwxr-xr-x   1 root   wheel      50560 Aug 23  2019 \u001b[31mlkbib\u001b[m\u001b[m\r\n",
      "-rwxr-xr-x   1 root   wheel      18288 Aug 23  2019 \u001b[31mlldb\u001b[m\u001b[m\r\n",
      "lrwxr-xr-x   1 root   wheel          7 Mar 19  2019 \u001b[35mllvm-g++\u001b[m\u001b[m -> clang++\r\n",
      "lrwxr-xr-x   1 root   wheel          5 Mar 19  2019 \u001b[35mllvm-gcc\u001b[m\u001b[m -> clang\r\n",
      "-rwxr-xr-x   1 root   wheel       1936 Feb 25  2019 \u001b[31mloads.d\u001b[m\u001b[m\r\n",
      "-rwxr-xr-x   1 root   wheel      60240 Aug 23  2019 \u001b[31mlocale\u001b[m\u001b[m\r\n",
      "-rwxr-xr-x   1 root   wheel      30650 Feb 25  2019 \u001b[31mlocaledef\u001b[m\u001b[m\r\n",
      "-rwxr-xr-x   1 root   wheel      23424 Aug 23  2019 \u001b[31mlocate\u001b[m\u001b[m\r\n",
      "-rwxr-xr-x   1 root   wheel      57760 Aug 23  2019 \u001b[31mlockstat\u001b[m\u001b[m\r\n",
      "-rwxr-xr-x   1 root   wheel     267632 Jan 24 04:14 \u001b[31mlog\u001b[m\u001b[m\r\n",
      "-r-xr-xr-x   1 root   wheel      18848 Aug 23  2019 \u001b[31mlogger\u001b[m\u001b[m\r\n",
      "-r-sr-xr-x   1 root   wheel      76288 Jan 24 04:14 \u001b[30m\u001b[41mlogin\u001b[m\u001b[m\r\n",
      "-rwxr-xr-x   1 root   wheel      18176 Aug 23  2019 \u001b[31mlogname\u001b[m\u001b[m\r\n",
      "-rwxr-xr-x   1 root   wheel      18816 Aug 23  2019 \u001b[31mlook\u001b[m\u001b[m\r\n",
      "-rwxr-xr-x   1 root   wheel      50816 Aug 23  2019 \u001b[31mlookbib\u001b[m\u001b[m\r\n",
      "-rwxr-xr-x   1 root   wheel      18288 Aug 23  2019 \u001b[31mlorder\u001b[m\u001b[m\r\n",
      "-r-xr-xr-x   1 root   wheel      28368 Jan 24 04:14 \u001b[31mlp\u001b[m\u001b[m\r\n",
      "-r-xr-xr-x   1 root   wheel      24224 Jan 24 04:14 \u001b[31mlpoptions\u001b[m\u001b[m\r\n",
      "-r-xr-xr-x   1 root   wheel      24208 Jan 24 04:14 \u001b[31mlpq\u001b[m\u001b[m\r\n",
      "-r-xr-xr-x   1 root   wheel      23856 Jan 24 04:14 \u001b[31mlpr\u001b[m\u001b[m\r\n",
      "-r-xr-xr-x   1 root   wheel      18592 Jan 24 04:14 \u001b[31mlprm\u001b[m\u001b[m\r\n",
      "-r-xr-xr-x   1 root   wheel      37184 Jan 24 04:14 \u001b[31mlpstat\u001b[m\u001b[m\r\n",
      "-rwxr-xr-x   1 root   wheel     230944 Aug 23  2019 \u001b[31mlsappinfo\u001b[m\u001b[m\r\n",
      "-rwxr-xr-x   1 root   wheel      29216 Aug 23  2019 \u001b[31mlsbom\u001b[m\u001b[m\r\n",
      "-rwxr-xr-x   1 root   wheel      68704 Jan 24 04:14 \u001b[31mlskq\u001b[m\u001b[m\r\n",
      "-rwxr-xr-x   1 root   wheel      52560 Aug 23  2019 \u001b[31mlsm\u001b[m\u001b[m\r\n",
      "-rwxr-xr-x   1 root   wheel      98912 Jan 24 04:14 \u001b[31mlsmp\u001b[m\u001b[m\r\n",
      "-rwxr-xr-x   1 root   wheel      18336 Aug 23  2019 \u001b[31mlsvfs\u001b[m\u001b[m\r\n",
      "-rwxr-xr-x  35 root   wheel        811 Feb 25  2019 \u001b[31mlwp-download\u001b[m\u001b[m\r\n",
      "-r-xr-xr-x   1 root   wheel       8639 Feb 25  2019 \u001b[31mlwp-download5.18\u001b[m\u001b[m\r\n",
      "-rwxr-xr-x  35 root   wheel        811 Feb 25  2019 \u001b[31mlwp-dump\u001b[m\u001b[m\r\n",
      "-r-xr-xr-x   1 root   wheel       2802 Feb 25  2019 \u001b[31mlwp-dump5.18\u001b[m\u001b[m\r\n",
      "-rwxr-xr-x  35 root   wheel        811 Feb 25  2019 \u001b[31mlwp-mirror\u001b[m\u001b[m\r\n",
      "-r-xr-xr-x   1 root   wheel       2482 Feb 25  2019 \u001b[31mlwp-mirror5.18\u001b[m\u001b[m\r\n",
      "-rwxr-xr-x  35 root   wheel        811 Feb 25  2019 \u001b[31mlwp-request\u001b[m\u001b[m\r\n",
      "-r-xr-xr-x   1 root   wheel      15063 Feb 25  2019 \u001b[31mlwp-request5.18\u001b[m\u001b[m\r\n",
      "-rwxr-xr-x   1 root   wheel      18272 Aug 23  2019 \u001b[31mm4\u001b[m\u001b[m\r\n",
      "-rwxr-xr-x   1 root   wheel      42048 Aug 23  2019 \u001b[31mmacbinary\u001b[m\u001b[m\r\n",
      "-rwxr-xr-x  35 root   wheel        811 Feb 25  2019 \u001b[31mmacerror\u001b[m\u001b[m\r\n",
      "-r-xr-xr-x   1 root   wheel        728 Feb 25  2019 \u001b[31mmacerror5.18\u001b[m\u001b[m\r\n",
      "-rwxr-xr-x   1 root   wheel      66880 Jan 24 04:14 \u001b[31mmachine\u001b[m\u001b[m\r\n",
      "-rwxr-xr-x   1 root   wheel      85776 Aug 23  2019 \u001b[31mmail\u001b[m\u001b[m\r\n",
      "lrwxr-xr-x   1 root   wheel         16 Mar 19  2019 \u001b[35mmailq\u001b[m\u001b[m -> ../sbin/sendmail\r\n",
      "-rwxr-xr-x   1 root   wheel      85776 Aug 23  2019 \u001b[31mmailx\u001b[m\u001b[m\r\n",
      "-rwxr-xr-x   1 root   wheel      18288 Aug 23  2019 \u001b[31mmake\u001b[m\u001b[m\r\n",
      "-rwxr-xr-x   1 root   wheel     239056 Aug 23  2019 \u001b[31mmakeinfo\u001b[m\u001b[m\r\n",
      "-rwxr-xr-x   1 root   wheel     113040 Jan 24 04:14 \u001b[31mmalloc_history\u001b[m\u001b[m\r\n",
      "-rwxr-xr-x   1 root   wheel     128768 Jan 24 04:14 \u001b[31mmalloc_history32\u001b[m\u001b[m\r\n",
      "-r-xr-xr-x   1 root   wheel      70192 Aug 23  2019 \u001b[31mman\u001b[m\u001b[m\r\n",
      "lrwxr-xr-x   1 root   wheel          3 Mar 19  2019 \u001b[35mmanpath\u001b[m\u001b[m -> man\r\n",
      "-rwxr-xr-x   1 root   wheel      88096 Jan 24 04:14 \u001b[31mmcxquery\u001b[m\u001b[m\r\n",
      "-rwxr-xr-x   1 root   wheel      23392 Jan 24 04:14 \u001b[31mmcxrefresh\u001b[m\u001b[m\r\n",
      "-rwxr-xr-x   1 root   wheel     148192 Jan 24 04:14 \u001b[31mmddiagnose\u001b[m\u001b[m\r\n",
      "-rwxr-xr-x   1 root   wheel      29280 Jan 24 04:14 \u001b[31mmdfind\u001b[m\u001b[m\r\n",
      "-rwxr-xr-x   1 root   wheel     270544 Jan 24 04:14 \u001b[31mmdimport\u001b[m\u001b[m\r\n",
      "-rwxr-xr-x   1 root   wheel      24048 Jan 24 04:14 \u001b[31mmdls\u001b[m\u001b[m\r\n",
      "-rwxr-xr-x   1 root   wheel     113136 Jan 24 04:14 \u001b[31mmdutil\u001b[m\u001b[m\r\n",
      "-rwxr-xr-x   1 root   wheel      72736 Jan 24 04:14 \u001b[31mmemory_pressure\u001b[m\u001b[m\r\n",
      "-r-xr-xr-x   1 root   wheel      18224 Aug 23  2019 \u001b[31mmesg\u001b[m\u001b[m\r\n",
      "-rwxr-xr-x   1 root   wheel      43760 Feb 25  2019 \u001b[31mmib2c\u001b[m\u001b[m\r\n",
      "-rwxr-xr-x   1 root   wheel       8780 Feb 25  2019 \u001b[31mmib2c-update\u001b[m\u001b[m\r\n",
      "-rwxr-xr-x   1 root   wheel      18288 Aug 23  2019 \u001b[31mmig\u001b[m\u001b[m\r\n",
      "-rwxr-xr-x   1 root   wheel      19904 Aug 23  2019 \u001b[31mmkbom\u001b[m\u001b[m\r\n",
      "-rwxr-xr-x   1 root   wheel      18288 Aug 23  2019 \u001b[31mmkdep\u001b[m\u001b[m\r\n",
      "-rwxr-xr-x   1 root   wheel      18416 Aug 23  2019 \u001b[31mmkfifo\u001b[m\u001b[m\r\n",
      "-rwxr-xr-x   1 root   wheel      40336 Aug 23  2019 \u001b[31mmklocale\u001b[m\u001b[m\r\n",
      "-rwxr-xr-x   1 root   wheel      18800 Aug 23  2019 \u001b[31mmktemp\u001b[m\u001b[m\r\n",
      "-rwxr-xr-x   1 root   wheel       2975 Feb 25  2019 \u001b[31mmmroff\u001b[m\u001b[m\r\n",
      "-rwxr-xr-x   1 root   wheel      28720 Aug 23  2019 \u001b[31mmnthome\u001b[m\u001b[m\r\n",
      "-rwxr-xr-x  35 root   wheel        811 Feb 25  2019 \u001b[31mmoo-outdated\u001b[m\u001b[m\r\n",
      "-r-xr-xr-x   1 root   wheel        448 Feb 25  2019 \u001b[31mmoo-outdated5.18\u001b[m\u001b[m\r\n",
      "-rwxr-xr-x  35 root   wheel        811 Feb 25  2019 \u001b[31mmoose-outdated\u001b[m\u001b[m\r\n",
      "-r-xr-xr-x   1 root   wheel        455 Feb 25  2019 \u001b[31mmoose-outdated5.18\u001b[m\u001b[m\r\n",
      "-rwxr-xr-x   1 root   wheel     133856 Aug 23  2019 \u001b[31mmore\u001b[m\u001b[m\r\n",
      "-r-xr-xr-x   1 root   wheel       1271 Feb 25  2019 \u001b[31mmp2bug\u001b[m\u001b[m\r\n",
      "-rwxr-xr-x   1 root   wheel      29504 Aug 23  2019 \u001b[31mmsgs\u001b[m\u001b[m\r\n",
      "-rwxr-xr-x   1 root   wheel     141312 Aug 23  2019 \u001b[31mnano\u001b[m\u001b[m\r\n",
      "-rwxr-xr-x   1 root   wheel      18288 Aug 23  2019 \u001b[31mnasm\u001b[m\u001b[m\r\n",
      "lrwxr-xr-x   1 root   wheel         82 Mar 19  2019 \u001b[35mnative2ascii\u001b[m\u001b[m -> /System/Library/Frameworks/JavaVM.framework/Versions/Current/Commands/native2ascii\r\n",
      "-rwxr-xr-x   1 root   wheel      25936 Jan 24 04:14 \u001b[31mnbdst\u001b[m\u001b[m\r\n",
      "-r-xr-xr-x   1 root   wheel      46896 Aug 23  2019 \u001b[31mnc\u001b[m\u001b[m\r\n",
      "-r-xr-xr-x   1 root   wheel      32192 Aug 23  2019 \u001b[31mncal\u001b[m\u001b[m\r\n",
      "-r-xr-xr-x   1 root   wheel      23920 Aug 23  2019 \u001b[31mncctl\u001b[m\u001b[m\r\n",
      "-r-xr-xr-x   1 root   wheel      23920 Aug 23  2019 \u001b[31mncdestroy\u001b[m\u001b[m\r\n",
      "-r-xr-xr-x   1 root   wheel      23920 Aug 23  2019 \u001b[31mncinit\u001b[m\u001b[m\r\n",
      "-r-xr-xr-x   1 root   wheel      23920 Aug 23  2019 \u001b[31mnclist\u001b[m\u001b[m\r\n",
      "-rwxr-xr-x   1 root   wheel       4977 Feb 25  2019 \u001b[31mncurses5.4-config\u001b[m\u001b[m\r\n",
      "-rwxr-xr-x   1 root   wheel      18304 Aug 23  2019 \u001b[31mndisasm\u001b[m\u001b[m\r\n",
      "-rwxr-xr-x   1 root   wheel        271 Feb 25  2019 \u001b[31mneqn\u001b[m\u001b[m\r\n",
      "-rwxr-xr-x  35 root   wheel        811 Feb 25  2019 \u001b[31mnet-server\u001b[m\u001b[m\r\n",
      "-r-xr-xr-x   1 root   wheel       3429 Feb 25  2019 \u001b[31mnet-server5.18\u001b[m\u001b[m\r\n",
      "-rwxr-xr-x   1 root   wheel      78699 Feb 25  2019 \u001b[31mnet-snmp-cert\u001b[m\u001b[m\r\n",
      "-rwxr-xr-x   1 root   wheel      25498 Feb 25  2019 \u001b[31mnet-snmp-config\u001b[m\u001b[m\r\n",
      "-rwxr-xr-x   1 root   wheel       3651 Feb 25  2019 \u001b[31mnet-snmp-create-v3-user\u001b[m\u001b[m\r\n",
      "-rwxr-xr-x   1 root   wheel      71712 Aug 23  2019 \u001b[31mnettop\u001b[m\u001b[m\r\n",
      "lrwxr-xr-x   1 root   wheel         16 Mar 19  2019 \u001b[35mnewaliases\u001b[m\u001b[m -> ../sbin/sendmail\r\n",
      "-r-sr-xr-x   1 root   wheel      52512 Jan 24 04:14 \u001b[30m\u001b[41mnewgrp\u001b[m\u001b[m\r\n",
      "-rwxr-xr-x   1 root   wheel       4376 Feb 25  2019 \u001b[31mnewproc.d\u001b[m\u001b[m\r\n",
      "-r-xr-xr-x   1 root   wheel      45264 Aug 23  2019 \u001b[31mnfsstat\u001b[m\u001b[m\r\n",
      "-rwxr-xr-x   1 root   wheel      18416 Aug 23  2019 \u001b[31mnice\u001b[m\u001b[m\r\n",
      "-rwxr-xr-x   1 root   wheel      23552 Aug 23  2019 \u001b[31mnl\u001b[m\u001b[m\r\n",
      "-rwxr-xr-x   1 root   wheel      18272 Aug 23  2019 \u001b[31mnm\u001b[m\u001b[m\r\n",
      "-rwxr-xr-x   1 root   wheel      18288 Aug 23  2019 \u001b[31mnmedit\u001b[m\u001b[m\r\n",
      "-rwxr-xr-x   1 root   wheel      18640 Aug 23  2019 \u001b[31mnohup\u001b[m\u001b[m\r\n",
      "-rwxr-xr-x   1 root   wheel      29312 Aug 23  2019 \u001b[31mnotifyutil\u001b[m\u001b[m\r\n",
      "-rwxr-xr-x   1 root   wheel       2357 Feb 25  2019 \u001b[31mnroff\u001b[m\u001b[m\r\n",
      "-rwxr-xr-x   1 root   wheel     105936 Jan 24 04:14 \u001b[31mnscurl\u001b[m\u001b[m\r\n",
      "-rwxr-xr-x   1 root   wheel    1873120 Aug 23  2019 \u001b[31mnslookup\u001b[m\u001b[m\r\n",
      "-rwxr-xr-x   1 root   wheel    1855232 Aug 23  2019 \u001b[31mnsupdate\u001b[m\u001b[m\r\n",
      "-rwxr-xr-x   1 root   wheel      18304 Aug 23  2019 \u001b[31mobjdump\u001b[m\u001b[m\r\n",
      "-rwxr-xr-x   1 root   wheel      38976 Aug 23  2019 \u001b[31mocspcheck\u001b[m\u001b[m\r\n",
      "-rwxr-xr-x   1 root   wheel      32848 Aug 23  2019 \u001b[31mod\u001b[m\u001b[m\r\n",
      "-rwxr-xr-x   1 root   wheel      61952 Aug 23  2019 \u001b[31modutil\u001b[m\u001b[m\r\n",
      "-rwxr-xr-x   1 root   wheel     105952 Aug 23  2019 \u001b[31mopen\u001b[m\u001b[m\r\n",
      "-rwxr-xr-x   1 root   wheel      18304 Aug 23  2019 \u001b[31mopendiff\u001b[m\u001b[m\r\n",
      "-rwxr-xr-x   1 root   wheel       8038 Feb 25  2019 \u001b[31mopensnoop\u001b[m\u001b[m\r\n",
      "-rwxr-xr-x   1 root   wheel     488624 Aug 23  2019 \u001b[31mopenssl\u001b[m\u001b[m\r\n",
      "lrwxr-xr-x   1 root   wheel         74 Mar 19  2019 \u001b[35morbd\u001b[m\u001b[m -> /System/Library/Frameworks/JavaVM.framework/Versions/Current/Commands/orbd\r\n",
      "-rwxr-xr-x   1 root   wheel      42128 Aug 23  2019 \u001b[31mosacompile\u001b[m\u001b[m\r\n",
      "-rwxr-xr-x   1 root   wheel      19968 Aug 23  2019 \u001b[31mosadecompile\u001b[m\u001b[m\r\n",
      "-rwxr-xr-x   1 root   wheel      18592 Aug 23  2019 \u001b[31mosalang\u001b[m\u001b[m\r\n",
      "-rwxr-xr-x   1 root   wheel      43232 Aug 23  2019 \u001b[31mosascript\u001b[m\u001b[m\r\n",
      "-rwxr-xr-x   1 root   wheel      18288 Aug 23  2019 \u001b[31motool\u001b[m\u001b[m\r\n",
      "lrwxr-xr-x   1 root   wheel         77 Mar 19  2019 \u001b[35mpack200\u001b[m\u001b[m -> /System/Library/Frameworks/JavaVM.framework/Versions/Current/Commands/pack200\r\n",
      "-rwxr-xr-x  35 root   wheel        811 Feb 25  2019 \u001b[31mpackage-stash-conflicts\u001b[m\u001b[m\r\n",
      "-r-xr-xr-x   1 root   wheel        844 Feb 25  2019 \u001b[31mpackage-stash-conflicts5.18\u001b[m\u001b[m\r\n",
      "-rwxr-xr-x   1 root   wheel       2006 Mar 12  2019 \u001b[31mpagesize\u001b[m\u001b[m\r\n",
      "-rwxr-xr-x   1 root   wheel      18304 Aug 23  2019 \u001b[31mpagestuff\u001b[m\u001b[m\r\n",
      "-rwxr-xr-x  35 root   wheel        811 Feb 25  2019 \u001b[31mpar.pl\u001b[m\u001b[m\r\n",
      "-r-xr-xr-x   1 root   wheel      29555 Feb 25  2019 \u001b[31mpar5.18.pl\u001b[m\u001b[m\r\n",
      "-rwxr-xr-x   1 root   wheel      66608 Aug 23  2019 \u001b[31mparl\u001b[m\u001b[m\r\n",
      "-r-xr-xr-x   1 root   wheel    5341072 Aug 23  2019 \u001b[31mparl5.18\u001b[m\u001b[m\r\n",
      "-rwxr-xr-x   1 root   wheel      66608 Aug 23  2019 \u001b[31mparldyn\u001b[m\u001b[m\r\n",
      "-r-xr-xr-x   1 root   wheel     124848 Aug 23  2019 \u001b[31mparldyn5.18\u001b[m\u001b[m\r\n",
      "-rwxr-xr-x   1 root   wheel      68656 Jan 24 04:14 \u001b[31mpasswd\u001b[m\u001b[m\r\n",
      "-rwxr-xr-x   1 root   wheel      18592 Aug 23  2019 \u001b[31mpaste\u001b[m\u001b[m\r\n",
      "-rwxr-xr-x   1 root   wheel      95136 Aug 23  2019 \u001b[31mpatch\u001b[m\u001b[m\r\n",
      "-rwxr-xr-x   1 root   wheel      18512 Aug 23  2019 \u001b[31mpathchk\u001b[m\u001b[m\r\n",
      "-rwxr-xr-x   1 root   wheel       2378 Feb 25  2019 \u001b[31mpathopens.d\u001b[m\u001b[m\r\n",
      "-rwxr-xr-x   1 root   wheel      23584 Aug 23  2019 \u001b[31mpbcopy\u001b[m\u001b[m\r\n",
      "-rwxr-xr-x   1 root   wheel      23584 Aug 23  2019 \u001b[31mpbpaste\u001b[m\u001b[m\r\n",
      "-rwxr-xr-x   1 root   wheel       1622 Feb 25  2019 \u001b[31mpcap-config\u001b[m\u001b[m\r\n",
      "-rwxr-xr-x   1 root   wheel      43328 Aug 23  2019 \u001b[31mpcsctest\u001b[m\u001b[m\r\n",
      "-rwxr-xr-x   1 root   wheel      66608 Aug 23  2019 \u001b[31mperl\u001b[m\u001b[m\r\n",
      "-rwxr-xr-x   1 root   wheel      52864 Aug 23  2019 \u001b[31mperl5.18\u001b[m\u001b[m\r\n",
      "-rwxr-xr-x  38 root   wheel        811 Feb 26  2019 \u001b[31mperlbug\u001b[m\u001b[m\r\n",
      "-rwxr-xr-x   1 root   wheel      41944 Apr  1  2019 \u001b[31mperlbug5.18\u001b[m\u001b[m\r\n",
      "-rwxr-xr-x  38 root   wheel        811 Feb 26  2019 \u001b[31mperldoc\u001b[m\u001b[m\r\n",
      "-rwxr-xr-x   1 root   wheel        259 Feb 26  2019 \u001b[31mperldoc5.18\u001b[m\u001b[m\r\n",
      "-rwxr-xr-x  38 root   wheel        811 Feb 26  2019 \u001b[31mperlivp\u001b[m\u001b[m\r\n",
      "-rwxr-xr-x   1 root   wheel      10807 Apr  1  2019 \u001b[31mperlivp5.18\u001b[m\u001b[m\r\n",
      "-rwxr-xr-x  38 root   wheel        811 Feb 26  2019 \u001b[31mperlthanks\u001b[m\u001b[m\r\n",
      "-rwxr-xr-x   1 root   wheel      41944 Apr  1  2019 \u001b[31mperlthanks5.18\u001b[m\u001b[m\r\n",
      "-rwxr-xr-x   1 root   wheel      22912 Aug 23  2019 \u001b[31mpfbtops\u001b[m\u001b[m\r\n",
      "-rwxr-xr-x   1 root   wheel      30512 Aug 23  2019 \u001b[31mpgrep\u001b[m\u001b[m\r\n",
      "lrwxr-xr-x   1 root   wheel          9 Mar 19  2019 \u001b[35mphar\u001b[m\u001b[m -> phar.phar\r\n",
      "-rwxr-xr-x   1 root   wheel      14811 Jan  7 01:21 \u001b[31mphar.phar\u001b[m\u001b[m\r\n",
      "-rwxr-xr-x   1 root   wheel   11244288 Jan 24 04:14 \u001b[31mphp\u001b[m\u001b[m\r\n",
      "-rwxr-xr-x   1 root   wheel       6438 Jan  7 01:22 \u001b[31mphp-config\u001b[m\u001b[m\r\n",
      "-rwxr-xr-x   1 root   wheel       4520 Jan  7 01:21 \u001b[31mphpize\u001b[m\u001b[m\r\n",
      "-rwxr-xr-x   1 root   wheel     213312 Aug 23  2019 \u001b[31mpic\u001b[m\u001b[m\r\n",
      "lrwxr-xr-x   1 root   wheel          4 Mar 19  2019 \u001b[35mpico\u001b[m\u001b[m -> nano\r\n",
      "-rwxr-xr-x  38 root   wheel        811 Feb 26  2019 \u001b[31mpiconv\u001b[m\u001b[m\r\n",
      "-rwxr-xr-x   1 root   wheel       7372 Feb 26  2019 \u001b[31mpiconv5.18\u001b[m\u001b[m\r\n",
      "-rwxr-xr-x   1 root   wheel       1295 Feb 25  2019 \u001b[31mpidpersec.d\u001b[m\u001b[m\r\n",
      "-rwxr-xr-x   1 root   wheel      82784 Jan 24 04:14 \u001b[31mpkgbuild\u001b[m\u001b[m\r\n",
      "-rwxr-xr-x   1 root   wheel      30512 Aug 23  2019 \u001b[31mpkill\u001b[m\u001b[m\r\n",
      "-rwxr-xr-x   1 root   wheel      22912 Jan 24 04:14 \u001b[31mpl\u001b[m\u001b[m\r\n",
      "-rwxr-xr-x  38 root   wheel        811 Feb 26  2019 \u001b[31mpl2pm\u001b[m\u001b[m\r\n",
      "-rwxr-xr-x   1 root   wheel       4566 Feb 26  2019 \u001b[31mpl2pm5.18\u001b[m\u001b[m\r\n",
      "-rwxr-xr-x   1 root   wheel      33536 Aug 23  2019 \u001b[31mplockstat\u001b[m\u001b[m\r\n",
      "-rwxr-xr-x   1 root   wheel     196032 Jan 24 04:14 \u001b[31mpluginkit\u001b[m\u001b[m\r\n",
      "-rwxr-xr-x   1 root   wheel      45664 Jan 24 04:14 \u001b[31mplutil\u001b[m\u001b[m\r\n",
      "-rwxr-xr-x   1 root   wheel     173536 Aug 23  2019 \u001b[31mpmset\u001b[m\u001b[m\r\n",
      "-rwxr-xr-x  38 root   wheel        811 Feb 26  2019 \u001b[31mpod2html\u001b[m\u001b[m\r\n",
      "-rwxr-xr-x   1 root   wheel       2073 Feb 26  2019 \u001b[31mpod2html5.18\u001b[m\u001b[m\r\n",
      "-rwxr-xr-x  38 root   wheel        811 Feb 26  2019 \u001b[31mpod2latex\u001b[m\u001b[m\r\n",
      "-rwxr-xr-x   1 root   wheel      10374 Feb 26  2019 \u001b[31mpod2latex5.18\u001b[m\u001b[m\r\n",
      "-rwxr-xr-x  38 root   wheel        811 Feb 26  2019 \u001b[31mpod2man\u001b[m\u001b[m\r\n",
      "-rwxr-xr-x   1 root   wheel      13700 Feb 26  2019 \u001b[31mpod2man5.18\u001b[m\u001b[m\r\n",
      "-rwxr-xr-x  35 root   wheel        811 Feb 25  2019 \u001b[31mpod2readme\u001b[m\u001b[m\r\n",
      "-r-xr-xr-x   1 root   wheel       1603 Feb 25  2019 \u001b[31mpod2readme5.18\u001b[m\u001b[m\r\n",
      "-rwxr-xr-x  38 root   wheel        811 Feb 26  2019 \u001b[31mpod2text\u001b[m\u001b[m\r\n",
      "-rwxr-xr-x   1 root   wheel      11123 Feb 26  2019 \u001b[31mpod2text5.18\u001b[m\u001b[m\r\n",
      "-rwxr-xr-x  38 root   wheel        811 Feb 26  2019 \u001b[31mpod2usage\u001b[m\u001b[m\r\n",
      "-rwxr-xr-x   1 root   wheel       3790 Feb 26  2019 \u001b[31mpod2usage5.18\u001b[m\u001b[m\r\n",
      "-rwxr-xr-x  38 root   wheel        811 Feb 26  2019 \u001b[31mpodchecker\u001b[m\u001b[m\r\n",
      "-rwxr-xr-x   1 root   wheel       3819 Feb 26  2019 \u001b[31mpodchecker5.18\u001b[m\u001b[m\r\n",
      "-rwxr-xr-x  38 root   wheel        811 Feb 26  2019 \u001b[31mpodselect\u001b[m\u001b[m\r\n",
      "-rwxr-xr-x   1 root   wheel       2647 Feb 26  2019 \u001b[31mpodselect5.18\u001b[m\u001b[m\r\n",
      "lrwxr-xr-x   1 root   wheel         80 Mar 19  2019 \u001b[35mpolicytool\u001b[m\u001b[m -> /System/Library/Frameworks/JavaVM.framework/Versions/Current/Commands/policytool\r\n",
      "-rwxr-xr-x   1 root   wheel     147568 Aug 23  2019 \u001b[31mpost-grohtml\u001b[m\u001b[m\r\n",
      "-rwxr-xr-x   1 root   wheel        951 Feb 25  2019 \u001b[31mpower_report.sh\u001b[m\u001b[m\r\n",
      "-rwxr-xr-x   1 root   wheel     157536 Jan 24 04:14 \u001b[31mpowermetrics\u001b[m\u001b[m\r\n",
      "-rwxr-xr-x  35 root   wheel        811 Feb 25  2019 \u001b[31mpp\u001b[m\u001b[m\r\n",
      "-r-xr-xr-x   1 root   wheel        152 Feb 25  2019 \u001b[31mpp5.18\u001b[m\u001b[m\r\n",
      "-r-xr-xr-x   1 root   wheel      25344 Jan 24 04:14 \u001b[31mppdc\u001b[m\u001b[m\r\n",
      "-r-xr-xr-x   1 root   wheel      23680 Jan 24 04:14 \u001b[31mppdhtml\u001b[m\u001b[m\r\n",
      "-r-xr-xr-x   1 root   wheel      18816 Jan 24 04:14 \u001b[31mppdi\u001b[m\u001b[m\r\n",
      "-r-xr-xr-x   1 root   wheel      24304 Jan 24 04:14 \u001b[31mppdmerge\u001b[m\u001b[m\r\n",
      "-r-xr-xr-x   1 root   wheel      23824 Jan 24 04:14 \u001b[31mppdpo\u001b[m\u001b[m\r\n",
      "-rwxr-xr-x   1 root   wheel      32224 Aug 23  2019 \u001b[31mpr\u001b[m\u001b[m\r\n",
      "-rwxr-xr-x   1 root   wheel      73952 Aug 23  2019 \u001b[31mpre-grohtml\u001b[m\u001b[m\r\n",
      "-rwxr-xr-x   1 root   wheel       1839 Feb 25  2019 \u001b[31mpriclass.d\u001b[m\u001b[m\r\n",
      "-rwxr-xr-x   1 root   wheel       1836 Feb 25  2019 \u001b[31mpridist.d\u001b[m\u001b[m\r\n",
      "-rwxr-xr-x   1 root   wheel      18160 Aug 23  2019 \u001b[31mprintenv\u001b[m\u001b[m\r\n",
      "-rwxr-xr-x   1 root   wheel      23232 Aug 23  2019 \u001b[31mprintf\u001b[m\u001b[m\r\n",
      "-rwxr-xr-x   1 root   wheel       6348 Feb 25  2019 \u001b[31mprocsystime\u001b[m\u001b[m\r\n",
      "-rwxr-xr-x   1 root   wheel     122672 Jan 24 04:14 \u001b[31mproductbuild\u001b[m\u001b[m\r\n",
      "-rwxr-xr-x   1 root   wheel      34416 Jan 24 04:14 \u001b[31mproductsign\u001b[m\u001b[m\r\n",
      "-rwxr-xr-x   1 root   wheel     158416 Jan 24 04:14 \u001b[31mprofiles\u001b[m\u001b[m\r\n",
      "-rwxr-xr-x  38 root   wheel        811 Feb 26  2019 \u001b[31mprove\u001b[m\u001b[m\r\n",
      "-rwxr-xr-x   1 root   wheel      11120 Feb 26  2019 \u001b[31mprove5.18\u001b[m\u001b[m\r\n",
      "-rwxr-xr-x  38 root   wheel        811 Feb 26  2019 \u001b[31mpsed\u001b[m\u001b[m\r\n",
      "-rwxr-xr-x   1 root   wheel      53364 Feb 26  2019 \u001b[31mpsed5.18\u001b[m\u001b[m\r\n",
      "-rwxr-xr-x   1 root   wheel      23968 Aug 23  2019 \u001b[31mpstopdf\u001b[m\u001b[m\r\n",
      "-rwxr-xr-x  38 root   wheel        811 Feb 26  2019 \u001b[31mpstruct\u001b[m\u001b[m\r\n",
      "-rwxr-xr-x   1 root   wheel      36642 Feb 26  2019 \u001b[31mpstruct5.18\u001b[m\u001b[m\r\n",
      "-rwxr-xr-x  38 root   wheel        811 Feb 26  2019 \u001b[31mptar\u001b[m\u001b[m\r\n",
      "-rwxr-xr-x   1 root   wheel       3559 Feb 26  2019 \u001b[31mptar5.18\u001b[m\u001b[m\r\n",
      "-rwxr-xr-x  38 root   wheel        811 Feb 26  2019 \u001b[31mptardiff\u001b[m\u001b[m\r\n",
      "-rwxr-xr-x   1 root   wheel       2507 Feb 26  2019 \u001b[31mptardiff5.18\u001b[m\u001b[m\r\n",
      "-rwxr-xr-x  38 root   wheel        811 Feb 26  2019 \u001b[31mptargrep\u001b[m\u001b[m\r\n",
      "-rwxr-xr-x   1 root   wheel       4274 Feb 26  2019 \u001b[31mptargrep5.18\u001b[m\u001b[m\r\n",
      "-rwxr-xr-x   1 root   wheel     114416 Aug 23  2019 \u001b[31mpubsub\u001b[m\u001b[m\r\n",
      "-rwxr-xr-x  35 root   wheel        811 Feb 25  2019 \u001b[31mpwhich\u001b[m\u001b[m\r\n",
      "-r-xr-xr-x   1 root   wheel       3106 Feb 25  2019 \u001b[31mpwhich5.18\u001b[m\u001b[m\r\n",
      "-rwxr-xr-x   1 root   wheel      47888 Aug 23  2019 \u001b[31mpwpolicy\u001b[m\u001b[m\r\n",
      "-rwxr-xr-x   4 root   wheel        925 Feb 25  2019 \u001b[31mpydoc\u001b[m\u001b[m\r\n",
      "lrwxr-xr-x   1 root   wheel         74 Mar 19  2019 \u001b[35mpydoc2.7\u001b[m\u001b[m -> ../../System/Library/Frameworks/Python.framework/Versions/2.7/bin/pydoc2.7\r\n",
      "-rwxr-xr-x   1 root   wheel      66880 Jan 24 04:14 \u001b[31mpython\u001b[m\u001b[m\r\n",
      "-rwxr-xr-x   4 root   wheel        925 Feb 25  2019 \u001b[31mpython-config\u001b[m\u001b[m\r\n",
      "lrwxr-xr-x   1 root   wheel         75 Mar 19  2019 \u001b[35mpython2.7\u001b[m\u001b[m -> ../../System/Library/Frameworks/Python.framework/Versions/2.7/bin/python2.7\r\n",
      "lrwxr-xr-x   1 root   wheel         82 Mar 19  2019 \u001b[35mpython2.7-config\u001b[m\u001b[m -> ../../System/Library/Frameworks/Python.framework/Versions/2.7/bin/python2.7-config\r\n",
      "-rwxr-xr-x   1 root   wheel      66880 Jan 24 04:14 \u001b[31mpythonw\u001b[m\u001b[m\r\n",
      "lrwxr-xr-x   1 root   wheel         76 Mar 19  2019 \u001b[35mpythonw2.7\u001b[m\u001b[m -> ../../System/Library/Frameworks/Python.framework/Versions/2.7/bin/pythonw2.7\r\n",
      "-rwxr-xr-x   1 root   wheel      45104 Aug 23  2019 \u001b[31mqc2movie\u001b[m\u001b[m\r\n",
      "lrwxr-xr-x   1 root   wheel        100 Mar 19  2019 \u001b[35mqlmanage\u001b[m\u001b[m -> ../../System/Library/Frameworks/QuickLook.framework/Resources/quicklookd.app/Contents/MacOS/qlmanage\r\n",
      "-rwxr-xr-x   1 root   wheel      50992 Aug 23  2019 \u001b[31mqtdefaults\u001b[m\u001b[m\r\n",
      "-rwxr-xr-x   1 root   wheel      38592 Aug 23  2019 \u001b[31mqtmodernizer\u001b[m\u001b[m\r\n",
      "-r-sr-xr-x   1 root   wheel      23568 Aug 23  2019 \u001b[30m\u001b[41mquota\u001b[m\u001b[m\r\n",
      "-r-xr-xr-x   1 root   wheel        549 Feb 25  2019 \u001b[31mrails\u001b[m\u001b[m\r\n",
      "-r-xr-xr-x   1 root   wheel        517 Feb 25  2019 \u001b[31mrake\u001b[m\u001b[m\r\n",
      "-rwxr-xr-x   1 root   wheel      18288 Aug 23  2019 \u001b[31mranlib\u001b[m\u001b[m\r\n",
      "-r-xr-xr-x   1 root   wheel        988 Feb 25  2019 \u001b[31mrdoc\u001b[m\u001b[m\r\n",
      "-rwxr-xr-x  15 root   wheel        190 Feb 25  2019 \u001b[31mread\u001b[m\u001b[m\r\n",
      "-rwxr-xr-x   1 root   wheel      27520 Aug 23  2019 \u001b[31mreadlink\u001b[m\u001b[m\r\n",
      "-rwxr-xr-x   1 root   wheel      18288 Aug 23  2019 \u001b[31mrebase\u001b[m\u001b[m\r\n",
      "-rwxr-xr-x   1 root   wheel      18320 Aug 23  2019 \u001b[31mredo_prebinding\u001b[m\u001b[m\r\n",
      "-rwxr-xr-x   1 root   wheel     113904 Aug 23  2019 \u001b[31mrefer\u001b[m\u001b[m\r\n",
      "-rwxr-xr-x   1 root   wheel      18304 Aug 23  2019 \u001b[31mrenice\u001b[m\u001b[m\r\n",
      "lrwxr-xr-x   1 root   wheel          4 Mar 19  2019 \u001b[35mreset\u001b[m\u001b[m -> tset\r\n",
      "-rwxr-xr-x   1 root   wheel      18320 Aug 23  2019 \u001b[31mresolveLinks\u001b[m\u001b[m\r\n",
      "-rwxr-xr-x   1 root   wheel      18416 Aug 23  2019 \u001b[31mrev\u001b[m\u001b[m\r\n",
      "-r-xr-xr-x   1 root   wheel        238 Feb 25  2019 \u001b[31mri\u001b[m\u001b[m\r\n",
      "lrwxr-xr-x   1 root   wheel         74 Mar 19  2019 \u001b[35mrmic\u001b[m\u001b[m -> /System/Library/Frameworks/JavaVM.framework/Versions/Current/Commands/rmic\r\n",
      "lrwxr-xr-x   1 root   wheel         74 Mar 19  2019 \u001b[35mrmid\u001b[m\u001b[m -> /System/Library/Frameworks/JavaVM.framework/Versions/Current/Commands/rmid\r\n",
      "lrwxr-xr-x   1 root   wheel         81 Mar 19  2019 \u001b[35mrmiregistry\u001b[m\u001b[m -> /System/Library/Frameworks/JavaVM.framework/Versions/Current/Commands/rmiregistry\r\n",
      "-rwxr-xr-x   1 root   wheel      18288 Aug 23  2019 \u001b[31mrpcgen\u001b[m\u001b[m\r\n",
      "-rwxr-xr-x   1 root   wheel      22720 Aug 23  2019 \u001b[31mrs\u001b[m\u001b[m\r\n",
      "-rwxr-xr-x   1 root   wheel     291632 Aug 23  2019 \u001b[31mrsync\u001b[m\u001b[m\r\n",
      "-r-xr-xr-x   1 root   wheel      52016 Aug 23  2019 \u001b[31mruby\u001b[m\u001b[m\r\n",
      "lrwxr-xr-x   1 root   wheel          3 Mar 19  2019 \u001b[35mrview\u001b[m\u001b[m -> vim\r\n",
      "lrwxr-xr-x   1 root   wheel          3 Mar 19  2019 \u001b[35mrvim\u001b[m\u001b[m -> vim\r\n",
      "-rwxr-xr-x   1 root   wheel       1657 Feb 25  2019 \u001b[31mrwbypid.d\u001b[m\u001b[m\r\n",
      "-rwxr-xr-x   1 root   wheel       2473 Feb 25  2019 \u001b[31mrwbytype.d\u001b[m\u001b[m\r\n",
      "-rwxr-xr-x   1 root   wheel       6357 Feb 25  2019 \u001b[31mrwsnoop\u001b[m\u001b[m\r\n",
      "-rwxr-xr-x  38 root   wheel        811 Feb 26  2019 \u001b[31ms2p\u001b[m\u001b[m\r\n",
      "-rwxr-xr-x   1 root   wheel      53364 Feb 26  2019 \u001b[31ms2p5.18\u001b[m\u001b[m\r\n",
      "lrwxr-xr-x   1 root   wheel         77 Mar 19  2019 \u001b[35msafaridriver\u001b[m\u001b[m -> /System/Library/CoreServices/SafariSupport.bundle/Contents/MacOS/safaridriver\r\n",
      "-rwxr-xr-x   1 root   wheel      74816 Jan 24 04:14 \u001b[31msample\u001b[m\u001b[m\r\n",
      "-rwxr-xr-x   1 root   wheel       2544 Feb 25  2019 \u001b[31msampleproc\u001b[m\u001b[m\r\n",
      "-rwxr-xr-x   1 root   wheel      19696 Jan 24 04:14 \u001b[31msandbox-exec\u001b[m\u001b[m\r\n",
      "-rwxr-xr-x   1 root   wheel      54896 Aug 23  2019 \u001b[31msay\u001b[m\u001b[m\r\n",
      "-rwxr-xr-x   1 root   wheel      82416 Jan 24 04:14 \u001b[31msc_usage\u001b[m\u001b[m\r\n",
      "-rwxr-xr-x  35 root   wheel        811 Feb 25  2019 \u001b[31mscandeps.pl\u001b[m\u001b[m\r\n",
      "-r-xr-xr-x   1 root   wheel       5815 Feb 25  2019 \u001b[31mscandeps5.18.pl\u001b[m\u001b[m\r\n",
      "lrwxr-xr-x   1 root   wheel         79 Mar 19  2019 \u001b[35mschemagen\u001b[m\u001b[m -> /System/Library/Frameworks/JavaVM.framework/Versions/Current/Commands/schemagen\r\n",
      "-rwxr-xr-x   1 root   wheel      80896 Aug 23  2019 \u001b[31mscp\u001b[m\u001b[m\r\n",
      "-rwxr-xr-x   1 root   wheel     294448 Aug 23  2019 \u001b[31mscreen\u001b[m\u001b[m\r\n",
      "-rwxr-xr-x   1 root   wheel      24112 Aug 23  2019 \u001b[31mscript\u001b[m\u001b[m\r\n",
      "-rwxr-xr-x   1 root   wheel      18288 Aug 23  2019 \u001b[31msdef\u001b[m\u001b[m\r\n",
      "-rwxr-xr-x   1 root   wheel      37584 Aug 23  2019 \u001b[31msdiff\u001b[m\u001b[m\r\n",
      "-rwxr-xr-x   1 root   wheel      18288 Aug 23  2019 \u001b[31msdp\u001b[m\u001b[m\r\n",
      "lrwxr-xr-x   1 root   wheel         32 Mar 19  2019 \u001b[35msdx\u001b[m\u001b[m -> ../../System/Library/Tcl/bin/sdx\r\n",
      "-rwxr-xr-x   1 root   wheel     263584 Jan 24 04:14 \u001b[31msecurity\u001b[m\u001b[m\r\n",
      "-rwxr-xr-x   1 root   wheel      42176 Aug 23  2019 \u001b[31msed\u001b[m\u001b[m\r\n",
      "-rwxr-xr-x   1 root   wheel       2041 Feb 25  2019 \u001b[31mseeksize.d\u001b[m\u001b[m\r\n",
      "-rwxr-xr-x   1 root   wheel      18304 Aug 23  2019 \u001b[31msegedit\u001b[m\u001b[m\r\n",
      "-rwxr-xr-x   1 root   wheel      23008 Aug 23  2019 \u001b[31mseq\u001b[m\u001b[m\r\n",
      "lrwxr-xr-x   1 root   wheel         79 Mar 19  2019 \u001b[35mserialver\u001b[m\u001b[m -> /System/Library/Frameworks/JavaVM.framework/Versions/Current/Commands/serialver\r\n",
      "lrwxr-xr-x   1 root   wheel         80 Mar 19  2019 \u001b[35mservertool\u001b[m\u001b[m -> /System/Library/Frameworks/JavaVM.framework/Versions/Current/Commands/servertool\r\n",
      "-r-xr-xr-x   1 root   wheel      25024 Aug 23  2019 \u001b[31msetregion\u001b[m\u001b[m\r\n",
      "-rwxr-xr-x   1 root   wheel       1606 Feb 25  2019 \u001b[31msetuids.d\u001b[m\u001b[m\r\n",
      "-rwxr-xr-x   1 root   wheel      74480 Aug 23  2019 \u001b[31msfltool\u001b[m\u001b[m\r\n",
      "-rwxr-xr-x   1 root   wheel     119728 Aug 23  2019 \u001b[31msftp\u001b[m\u001b[m\r\n",
      "-rwxr-xr-x   1 root   wheel       2516 Feb 25  2019 \u001b[31mshar\u001b[m\u001b[m\r\n",
      "-rwxr-xr-x  38 root   wheel        811 Feb 26  2019 \u001b[31mshasum\u001b[m\u001b[m\r\n",
      "-rwxr-xr-x   1 root   wheel       8629 Feb 26  2019 \u001b[31mshasum5.18\u001b[m\u001b[m\r\n",
      "-rwxr-xr-x   1 root   wheel      23024 Aug 23  2019 \u001b[31mshlock\u001b[m\u001b[m\r\n",
      "-r-xr-xr-x   1 root   wheel      25008 Aug 23  2019 \u001b[31mshowmount\u001b[m\u001b[m\r\n",
      "-rwxr-xr-x   1 root   wheel       1603 Feb 25  2019 \u001b[31msigdist.d\u001b[m\u001b[m\r\n",
      "-rwxr-xr-x   1 root   wheel      99344 Aug 23  2019 \u001b[31msips\u001b[m\u001b[m\r\n",
      "-rwxr-xr-x   1 root   wheel      18288 Aug 23  2019 \u001b[31msize\u001b[m\u001b[m\r\n",
      "lrwxr-xr-x   1 root   wheel          3 Mar 19  2019 \u001b[35mslogin\u001b[m\u001b[m -> ssh\r\n",
      "-r-xr-xr-x   1 root   wheel      98560 Jan 24 04:14 \u001b[31msmbutil\u001b[m\u001b[m\r\n",
      "-rwxr-xr-x   1 root   wheel        928 Feb 25  2019 \u001b[31msmtpd.py\u001b[m\u001b[m\r\n",
      "lrwxr-xr-x   1 root   wheel         77 Mar 19  2019 \u001b[35msmtpd2.7.py\u001b[m\u001b[m -> ../../System/Library/Frameworks/Python.framework/Versions/2.7/bin/smtpd2.7.py\r\n",
      "lrwxr-xr-x   1 root   wheel         59 Mar 19  2019 \u001b[35msnfsdefrag\u001b[m\u001b[m -> /System/Library/Filesystems/acfs.fs/Contents/bin/snfsdefrag\r\n",
      "-rwxr-xr-x   1 root   wheel      30680 Feb 25  2019 \u001b[31msnmp-bridge-mib\u001b[m\u001b[m\r\n",
      "-rwxr-xr-x   1 root   wheel      23648 Aug 23  2019 \u001b[31msnmpbulkget\u001b[m\u001b[m\r\n",
      "-rwxr-xr-x   1 root   wheel      24064 Aug 23  2019 \u001b[31msnmpbulkwalk\u001b[m\u001b[m\r\n",
      "-rwxr-xr-x   1 root   wheel      26136 Feb 25  2019 \u001b[31msnmpconf\u001b[m\u001b[m\r\n",
      "-rwxr-xr-x   1 root   wheel      29520 Aug 23  2019 \u001b[31msnmpdelta\u001b[m\u001b[m\r\n",
      "-rwxr-xr-x   1 root   wheel      23712 Aug 23  2019 \u001b[31msnmpdf\u001b[m\u001b[m\r\n",
      "-rwxr-xr-x   1 root   wheel      19440 Aug 23  2019 \u001b[31msnmpget\u001b[m\u001b[m\r\n",
      "-rwxr-xr-x   1 root   wheel      19456 Aug 23  2019 \u001b[31msnmpgetnext\u001b[m\u001b[m\r\n",
      "-rwxr-xr-x   1 root   wheel      24144 Aug 23  2019 \u001b[31msnmpinform\u001b[m\u001b[m\r\n",
      "-rwxr-xr-x   1 root   wheel      55344 Aug 23  2019 \u001b[31msnmpnetstat\u001b[m\u001b[m\r\n",
      "-rwxr-xr-x   1 root   wheel      23568 Aug 23  2019 \u001b[31msnmpset\u001b[m\u001b[m\r\n",
      "-rwxr-xr-x   1 root   wheel      24192 Aug 23  2019 \u001b[31msnmpstatus\u001b[m\u001b[m\r\n",
      "-rwxr-xr-x   1 root   wheel      29104 Aug 23  2019 \u001b[31msnmptable\u001b[m\u001b[m\r\n",
      "-rwxr-xr-x   1 root   wheel      24672 Aug 23  2019 \u001b[31msnmptest\u001b[m\u001b[m\r\n",
      "-rwxr-xr-x   1 root   wheel      25184 Aug 23  2019 \u001b[31msnmptranslate\u001b[m\u001b[m\r\n",
      "-rwxr-xr-x   1 root   wheel      24144 Aug 23  2019 \u001b[31msnmptrap\u001b[m\u001b[m\r\n",
      "-rwxr-xr-x   1 root   wheel      46256 Aug 23  2019 \u001b[31msnmpusm\u001b[m\u001b[m\r\n",
      "-rwxr-xr-x   1 root   wheel      40128 Aug 23  2019 \u001b[31msnmpvacm\u001b[m\u001b[m\r\n",
      "-rwxr-xr-x   1 root   wheel      23936 Aug 23  2019 \u001b[31msnmpwalk\u001b[m\u001b[m\r\n",
      "-rwxr-xr-x   1 root   wheel     161504 Aug 23  2019 \u001b[31msntp\u001b[m\u001b[m\r\n",
      "-rwxr-xr-x   1 root   wheel      38912 Aug 23  2019 \u001b[31msoelim\u001b[m\u001b[m\r\n",
      "-rwxr-xr-x   1 root   wheel      56048 Aug 23  2019 \u001b[31msort\u001b[m\u001b[m\r\n",
      "-rwxr-xr-x  35 root   wheel        811 Feb 25  2019 \u001b[31mspfd\u001b[m\u001b[m\r\n",
      "-r-xr-xr-x   1 root   wheel       9486 Feb 25  2019 \u001b[31mspfd5.18\u001b[m\u001b[m\r\n",
      "-rwxr-xr-x  35 root   wheel        811 Feb 25  2019 \u001b[31mspfquery\u001b[m\u001b[m\r\n",
      "-r-xr-xr-x   1 root   wheel      23081 Feb 25  2019 \u001b[31mspfquery5.18\u001b[m\u001b[m\r\n",
      "-rwxr-xr-x  38 root   wheel        811 Feb 26  2019 \u001b[31msplain\u001b[m\u001b[m\r\n",
      "-rwxr-xr-x   1 root   wheel      18681 Feb 26  2019 \u001b[31msplain5.18\u001b[m\u001b[m\r\n",
      "-rwxr-xr-x   1 root   wheel      23104 Aug 23  2019 \u001b[31msplit\u001b[m\u001b[m\r\n",
      "-rwxr-xr-x   1 root   wheel    2158960 Aug 23  2019 \u001b[31msqlite3\u001b[m\u001b[m\r\n",
      "-rwxr-xr-x   1 root   wheel    2099264 Aug 23  2019 \u001b[31mssh\u001b[m\u001b[m\r\n",
      "-rwxr-xr-x   1 root   wheel    1791296 Aug 23  2019 \u001b[31mssh-add\u001b[m\u001b[m\r\n",
      "-rwxr-xr-x   1 root   wheel    1767984 Aug 23  2019 \u001b[31mssh-agent\u001b[m\u001b[m\r\n",
      "-rwxr-xr-x   1 root   wheel      10658 Feb 25  2019 \u001b[31mssh-copy-id\u001b[m\u001b[m\r\n",
      "-rwxr-xr-x   1 root   wheel    1845584 Aug 23  2019 \u001b[31mssh-keygen\u001b[m\u001b[m\r\n",
      "-rwxr-xr-x   1 root   wheel    1847504 Aug 23  2019 \u001b[31mssh-keyscan\u001b[m\u001b[m\r\n",
      "-rwxr-xr-x   1 root   wheel      18304 Aug 23  2019 \u001b[31mstapler\u001b[m\u001b[m\r\n",
      "-rwxr-xr-x   1 root   wheel      27520 Aug 23  2019 \u001b[31mstat\u001b[m\u001b[m\r\n",
      "-rwxr-xr-x   1 root   wheel      88896 Jan 24 04:14 \u001b[31mstringdups\u001b[m\u001b[m\r\n",
      "-rwxr-xr-x   1 root   wheel     100384 Jan 24 04:14 \u001b[31mstringdups32\u001b[m\u001b[m\r\n",
      "-rwxr-xr-x   1 root   wheel      18304 Aug 23  2019 \u001b[31mstrings\u001b[m\u001b[m\r\n",
      "-rwxr-xr-x   1 root   wheel      18288 Aug 23  2019 \u001b[31mstrip\u001b[m\u001b[m\r\n",
      "-rwxr-xr-x  35 root   wheel        811 Feb 25  2019 \u001b[31mstty.pl\u001b[m\u001b[m\r\n",
      "-r-xr-xr-x   1 root   wheel        277 Feb 25  2019 \u001b[31mstty5.18.pl\u001b[m\u001b[m\r\n",
      "-rwsr-xr-x   1 root   wheel      25488 Aug 23  2019 \u001b[30m\u001b[41msu\u001b[m\u001b[m\r\n",
      "-r-s--x--x   1 root   wheel     438672 Jan 24 04:14 \u001b[30m\u001b[41msudo\u001b[m\u001b[m\r\n",
      "-rwxr-xr-x   1 root   wheel      22688 Aug 23  2019 \u001b[31msum\u001b[m\u001b[m\r\n",
      "-rwxr-xr-x   1 root   wheel      18288 Aug 23  2019 \u001b[31msvn\u001b[m\u001b[m\r\n",
      "-rwxr-xr-x   1 root   wheel      18304 Aug 23  2019 \u001b[31msvnadmin\u001b[m\u001b[m\r\n",
      "-rwxr-xr-x   1 root   wheel      18320 Aug 23  2019 \u001b[31msvndumpfilter\u001b[m\u001b[m\r\n",
      "-rwxr-xr-x   1 root   wheel      18304 Aug 23  2019 \u001b[31msvnlook\u001b[m\u001b[m\r\n",
      "-rwxr-xr-x   1 root   wheel      18304 Aug 23  2019 \u001b[31msvnserve\u001b[m\u001b[m\r\n",
      "-rwxr-xr-x   1 root   wheel      18304 Aug 23  2019 \u001b[31msvnsync\u001b[m\u001b[m\r\n",
      "-rwxr-xr-x   1 root   wheel      18304 Aug 23  2019 \u001b[31msvnversion\u001b[m\u001b[m\r\n",
      "-rwxr-xr-x   1 root   wheel      18848 Aug 23  2019 \u001b[31msw_vers\u001b[m\u001b[m\r\n",
      "-rwxr-xr-x   1 root   wheel      18288 Aug 23  2019 \u001b[31mswift\u001b[m\u001b[m\r\n",
      "-rwxr-xr-x   1 root   wheel      18288 Aug 23  2019 \u001b[31mswiftc\u001b[m\u001b[m\r\n",
      "-rwxr-xr-x   1 root   wheel     155072 Jan 24 04:14 \u001b[31msymbols\u001b[m\u001b[m\r\n",
      "-rwxr-xr-x   1 root   wheel     108688 Aug 23  2019 \u001b[31msymbolscache\u001b[m\u001b[m\r\n",
      "-rwxr-xr-x   1 root   wheel       1260 Feb 25  2019 \u001b[31msyscallbypid.d\u001b[m\u001b[m\r\n",
      "-rwxr-xr-x   1 root   wheel        253 Feb 25  2019 \u001b[31msyscallbyproc.d\u001b[m\u001b[m\r\n",
      "-rwxr-xr-x   1 root   wheel        248 Feb 25  2019 \u001b[31msyscallbysysc.d\u001b[m\u001b[m\r\n",
      "-rwxr-xr-x   1 root   wheel     789920 Jan 24 04:14 \u001b[31msysdiagnose\u001b[m\u001b[m\r\n",
      "-rwxr-xr-x   1 root   wheel      67728 Aug 23  2019 \u001b[31msyslog\u001b[m\u001b[m\r\n",
      "-rwxr-xr-x   1 root   wheel        452 Feb 25  2019 \u001b[31msystriage\u001b[m\u001b[m\r\n",
      "-rwxr-xr-x   1 root   wheel      47248 Aug 23  2019 \u001b[31mtab2space\u001b[m\u001b[m\r\n",
      "-rwxr-xr-x   1 root   wheel      18576 Aug 23  2019 \u001b[31mtabs\u001b[m\u001b[m\r\n",
      "-rwxr-xr-x   1 root   wheel      28560 Aug 23  2019 \u001b[31mtail\u001b[m\u001b[m\r\n",
      "-rwxr-xr-x   1 root   wheel      56992 Aug 23  2019 \u001b[31mtailspin\u001b[m\u001b[m\r\n",
      "-r-xr-xr-x   1 root   wheel      30928 Aug 23  2019 \u001b[31mtalk\u001b[m\u001b[m\r\n",
      "lrwxr-xr-x   1 root   wheel          6 Mar 19  2019 \u001b[35mtar\u001b[m\u001b[m -> bsdtar\r\n",
      "-rwxr-xr-x   1 root   wheel      38496 Jan 24 04:14 \u001b[31mtaskinfo\u001b[m\u001b[m\r\n",
      "-rwxr-xr-x   1 root   wheel     111136 Aug 23  2019 \u001b[31mtbl\u001b[m\u001b[m\r\n",
      "-rwxr-xr-x   1 root   wheel      55200 Aug 23  2019 \u001b[31mtbtdiagnose\u001b[m\u001b[m\r\n",
      "-rwxr-xr-x   1 root   wheel      19088 Aug 23  2019 \u001b[31mtccutil\u001b[m\u001b[m\r\n",
      "lrwxr-xr-x   1 root   wheel          8 Mar 19  2019 \u001b[35mtclsh\u001b[m\u001b[m -> tclsh8.5\r\n",
      "lrwxr-xr-x   1 root   wheel         67 Mar 19  2019 \u001b[35mtclsh8.5\u001b[m\u001b[m -> ../../System/Library/Frameworks/Tcl.framework/Versions/8.5/tclsh8.5\r\n",
      "-rwxr-xr-x   1 root   wheel      18400 Aug 23  2019 \u001b[31mtee\u001b[m\u001b[m\r\n",
      "-rwxr-xr-x   1 root   wheel      28218 Feb 25  2019 \u001b[31mtexi2dvi\u001b[m\u001b[m\r\n",
      "-rwxr-xr-x   1 root   wheel        660 Feb 25  2019 \u001b[31mtexi2pdf\u001b[m\u001b[m\r\n",
      "-rwxr-xr-x   1 root   wheel      52368 Aug 23  2019 \u001b[31mtexindex\u001b[m\u001b[m\r\n",
      "-rwxr-xr-x   1 root   wheel      48720 Aug 23  2019 \u001b[31mtextutil\u001b[m\u001b[m\r\n",
      "-rwxr-xr-x   1 root   wheel      39152 Aug 23  2019 \u001b[31mtfmtodit\u001b[m\u001b[m\r\n",
      "-r-xr-xr-x   1 root   wheel      38976 Aug 23  2019 \u001b[31mtftp\u001b[m\u001b[m\r\n",
      "-rwxr-xr-x   1 root   wheel      26272 Jan 24 04:14 \u001b[31mthermal\u001b[m\u001b[m\r\n",
      "-rwxr-xr-x   1 root   wheel      55792 Aug 23  2019 \u001b[31mtic\u001b[m\u001b[m\r\n",
      "-rwxr-xr-x   1 root   wheel      75072 Aug 23  2019 \u001b[31mtidy\u001b[m\u001b[m\r\n",
      "-rwxr-xr-x   1 root   wheel      23440 Aug 23  2019 \u001b[31mtiff2icns\u001b[m\u001b[m\r\n",
      "-rwxr-xr-x   1 root   wheel     335936 Aug 23  2019 \u001b[31mtiffutil\u001b[m\u001b[m\r\n",
      "-rwxr-xr-x   1 root   wheel      18416 Aug 23  2019 \u001b[31mtime\u001b[m\u001b[m\r\n",
      "-rwxr-xr-x   1 root   wheel       2886 Feb 25  2019 \u001b[31mtimer_analyser.d\u001b[m\u001b[m\r\n",
      "-rwxr-xr-x   1 root   wheel       6537 Mar 12  2019 \u001b[31mtimerfires\u001b[m\u001b[m\r\n",
      "lrwxr-xr-x   1 root   wheel         43 Mar 19  2019 \u001b[35mtkcon\u001b[m\u001b[m -> ../../System/Library/Tcl/tkcon2.6/tkcon.tcl\r\n",
      "-rwxr-xr-x   1 root   wheel      30924 Feb 25  2019 \u001b[31mtkmib\u001b[m\u001b[m\r\n",
      "-rwxr-xr-x  35 root   wheel        811 Feb 25  2019 \u001b[31mtkpp\u001b[m\u001b[m\r\n",
      "-r-xr-xr-x   1 root   wheel      82203 Feb 25  2019 \u001b[31mtkpp5.18\u001b[m\u001b[m\r\n",
      "-rwxr-xr-x   1 root   wheel     180416 Aug 23  2019 \u001b[31mtmdiagnose\u001b[m\u001b[m\r\n",
      "-rwxr-xr-x   1 root   wheel     293808 Aug 23  2019 \u001b[31mtmutil\u001b[m\u001b[m\r\n",
      "lrwxr-xr-x   1 root   wheel         79 Mar 19  2019 \u001b[35mtnameserv\u001b[m\u001b[m -> /System/Library/Frameworks/JavaVM.framework/Versions/Current/Commands/tnameserv\r\n",
      "-rwxr-xr-x   1 root   wheel      24672 Aug 23  2019 \u001b[31mtoe\u001b[m\u001b[m\r\n",
      "-r-sr-xr-x   1 root   wheel      88400 Aug 23  2019 \u001b[30m\u001b[41mtop\u001b[m\u001b[m\r\n",
      "-rwxr-xr-x   1 root   wheel     107536 Aug 23  2019 \u001b[31mtops\u001b[m\u001b[m\r\n",
      "-rwxr-xr-x   1 root   wheel       4603 Feb 25  2019 \u001b[31mtopsyscall\u001b[m\u001b[m\r\n",
      "-rwxr-xr-x   1 root   wheel       2950 Feb 25  2019 \u001b[31mtopsysproc\u001b[m\u001b[m\r\n",
      "-rwxr-xr-x   1 root   wheel      23392 Aug 23  2019 \u001b[31mtouch\u001b[m\u001b[m\r\n",
      "-rwxr-xr-x   1 root   wheel      24208 Aug 23  2019 \u001b[31mtput\u001b[m\u001b[m\r\n",
      "-rwxr-xr-x   1 root   wheel      27744 Aug 23  2019 \u001b[31mtr\u001b[m\u001b[m\r\n",
      "-rwxr-xr-x   1 root   wheel     132224 Jan 24 04:14 \u001b[31mtrace\u001b[m\u001b[m\r\n",
      "-rwxr-xr-x   1 root   wheel       2207 Feb 25  2019 \u001b[31mtraptoemail\u001b[m\u001b[m\r\n",
      "-rwxr-xr-x  35 root   wheel        811 Feb 25  2019 \u001b[31mtreereg\u001b[m\u001b[m\r\n",
      "-r-xr-xr-x   1 root   wheel      10339 Feb 25  2019 \u001b[31mtreereg5.18\u001b[m\u001b[m\r\n",
      "-rwxr-xr-x   1 root   wheel      29968 Jan 24 04:14 \u001b[31mtrimforce\u001b[m\u001b[m\r\n",
      "-rwxr-xr-x   1 root   wheel     457920 Aug 23  2019 \u001b[31mtroff\u001b[m\u001b[m\r\n",
      "-rwxr-xr-x   1 root   wheel      17808 Aug 23  2019 \u001b[31mtrue\u001b[m\u001b[m\r\n",
      "-rwxr-xr-x   1 root   wheel      28816 Aug 23  2019 \u001b[31mtset\u001b[m\u001b[m\r\n",
      "-r-xr-xr-x   1 root   wheel      22976 Aug 23  2019 \u001b[31mtsort\u001b[m\u001b[m\r\n",
      "-rwxr-xr-x   1 root   wheel      18048 Aug 23  2019 \u001b[31mtty\u001b[m\u001b[m\r\n",
      "-rwxr-xr-x  15 root   wheel        190 Feb 25  2019 \u001b[31mtype\u001b[m\u001b[m\r\n",
      "-rwxr-xr-x   1 root   wheel      23200 Aug 23  2019 \u001b[31mul\u001b[m\u001b[m\r\n",
      "-rwxr-xr-x  15 root   wheel        190 Feb 25  2019 \u001b[31mulimit\u001b[m\u001b[m\r\n",
      "-rwxr-xr-x  15 root   wheel        190 Feb 25  2019 \u001b[31mumask\u001b[m\u001b[m\r\n",
      "-rwxr-xr-x  15 root   wheel        190 Feb 25  2019 \u001b[31munalias\u001b[m\u001b[m\r\n",
      "-rwxr-xr-x   1 root   wheel      18432 Aug 23  2019 \u001b[31muname\u001b[m\u001b[m\r\n",
      "-rwxr-xr-x   1 root   wheel      27712 Aug 23  2019 \u001b[31muncompress\u001b[m\u001b[m\r\n",
      "-rwxr-xr-x   1 root   wheel      18576 Aug 23  2019 \u001b[31munexpand\u001b[m\u001b[m\r\n",
      "-rwxr-xr-x   1 root   wheel      18304 Aug 23  2019 \u001b[31munifdef\u001b[m\u001b[m\r\n",
      "-rwxr-xr-x   1 root   wheel      18304 Aug 23  2019 \u001b[31munifdefall\u001b[m\u001b[m\r\n",
      "-rwxr-xr-x   1 root   wheel      23280 Aug 23  2019 \u001b[31muniq\u001b[m\u001b[m\r\n",
      "-r-xr-xr-x   1 root   wheel      27712 Aug 23  2019 \u001b[31munits\u001b[m\u001b[m\r\n",
      "lrwxr-xr-x   1 root   wheel         79 Mar 19  2019 \u001b[35munpack200\u001b[m\u001b[m -> /System/Library/Frameworks/JavaVM.framework/Versions/Current/Commands/unpack200\r\n",
      "-rwxr-xr-x   1 root   wheel      18400 Aug 23  2019 \u001b[31munvis\u001b[m\u001b[m\r\n",
      "-rwxr-xr-x   1 root   wheel     185536 Aug 23  2019 \u001b[31munzip\u001b[m\u001b[m\r\n",
      "-rwxr-xr-x   1 root   wheel      88064 Aug 23  2019 \u001b[31munzipsfx\u001b[m\u001b[m\r\n",
      "-rwxr-xr-x   1 root   wheel     776032 Aug 23  2019 \u001b[31mupdate_dyld_shared_cache\u001b[m\u001b[m\r\n",
      "-rwxr-xr-x   1 root   wheel      24192 Aug 23  2019 \u001b[31muptime\u001b[m\u001b[m\r\n",
      "-rwxr-xr-x   1 root   wheel      38720 Jan 24 04:14 \u001b[31musbkdp\u001b[m\u001b[m\r\n",
      "-rwxr-xr-x   1 root   wheel      18384 Aug 23  2019 \u001b[31musers\u001b[m\u001b[m\r\n",
      "-r-xr-xr-x   1 _uucp  wheel      93664 Aug 23  2019 \u001b[31muucp\u001b[m\u001b[m\r\n",
      "-r-xr-xr-x   1 root   wheel      24176 Aug 23  2019 \u001b[31muudecode\u001b[m\u001b[m\r\n",
      "-r-xr-xr-x   1 root   wheel      18768 Aug 23  2019 \u001b[31muuencode\u001b[m\u001b[m\r\n",
      "-rwxr-xr-x   1 root   wheel      43008 Jan 24 04:14 \u001b[31muuidgen\u001b[m\u001b[m\r\n",
      "-rwxr-xr-x   1 root   wheel      70224 Aug 23  2019 \u001b[31muulog\u001b[m\u001b[m\r\n",
      "-r-xr-xr-x   1 _uucp  wheel      48288 Aug 23  2019 \u001b[31muuname\u001b[m\u001b[m\r\n",
      "-rwxr-xr-x   1 root   wheel      75424 Aug 23  2019 \u001b[31muupick\u001b[m\u001b[m\r\n",
      "-r-xr-xr-x   1 _uucp  wheel     106224 Aug 23  2019 \u001b[31muustat\u001b[m\u001b[m\r\n",
      "-rwxr-xr-x   1 root   wheel       1958 Feb 25  2019 \u001b[31muuto\u001b[m\u001b[m\r\n",
      "-r-xr-xr-x   1 _uucp  wheel      97760 Aug 23  2019 \u001b[31muux\u001b[m\u001b[m\r\n",
      "lrwxr-xr-x   1 root   wheel          3 Mar 19  2019 \u001b[35mvi\u001b[m\u001b[m -> vim\r\n",
      "lrwxr-xr-x   1 root   wheel          3 Mar 19  2019 \u001b[35mview\u001b[m\u001b[m -> vim\r\n",
      "-rwxr-xr-x   1 root   wheel    1863696 Jan 24 04:14 \u001b[31mvim\u001b[m\u001b[m\r\n",
      "lrwxr-xr-x   1 root   wheel          3 Mar 19  2019 \u001b[35mvimdiff\u001b[m\u001b[m -> vim\r\n",
      "-rwxr-xr-x   1 root   wheel       2099 Feb 25  2019 \u001b[31mvimtutor\u001b[m\u001b[m\r\n",
      "-rwxr-xr-x   1 root   wheel      18528 Aug 23  2019 \u001b[31mvis\u001b[m\u001b[m\r\n",
      "-rwxr-xr-x   1 root   wheel      51776 Jan 24 04:14 \u001b[31mvm_stat\u001b[m\u001b[m\r\n",
      "-rwxr-xr-x   1 root   wheel      80176 Jan 24 04:14 \u001b[31mvmmap\u001b[m\u001b[m\r\n",
      "-rwxr-xr-x   1 root   wheel      91104 Jan 24 04:14 \u001b[31mvmmap32\u001b[m\u001b[m\r\n",
      "-rwxr-xr-x   1 root   wheel      24192 Aug 23  2019 \u001b[31mw\u001b[m\u001b[m\r\n",
      "-rwxr-xr-x  15 root   wheel        190 Feb 25  2019 \u001b[31mwait\u001b[m\u001b[m\r\n",
      "-r-xr-xr-x   1 root   wheel      24832 Aug 23  2019 \u001b[31mwall\u001b[m\u001b[m\r\n",
      "-rwxr-xr-x   1 root   wheel      23072 Aug 23  2019 \u001b[31mwc\u001b[m\u001b[m\r\n",
      "-rwxr-xr-x   1 root   wheel      96816 Aug 23  2019 \u001b[31mwdutil\u001b[m\u001b[m\r\n",
      "-rwxr-xr-x   1 root   wheel      18096 Aug 23  2019 \u001b[31mwhat\u001b[m\u001b[m\r\n",
      "-r-xr-xr-x   1 root   wheel       1806 Feb 25  2019 \u001b[31mwhatis\u001b[m\u001b[m\r\n",
      "-rwxr-xr-x   1 root   wheel      18544 Aug 23  2019 \u001b[31mwhereis\u001b[m\u001b[m\r\n",
      "-rwxr-xr-x   1 root   wheel      18576 Aug 23  2019 \u001b[31mwhich\u001b[m\u001b[m\r\n",
      "-rwxr-xr-x   1 root   wheel      23552 Aug 23  2019 \u001b[31mwho\u001b[m\u001b[m\r\n",
      "-rwxr-xr-x   1 root   wheel      23264 Aug 23  2019 \u001b[31mwhoami\u001b[m\u001b[m\r\n",
      "-rwxr-xr-x   1 root   wheel      23776 Aug 23  2019 \u001b[31mwhois\u001b[m\u001b[m\r\n",
      "lrwxr-xr-x   1 root   wheel          7 Mar 19  2019 \u001b[35mwish\u001b[m\u001b[m -> wish8.5\r\n",
      "-r-xr-xr-x   1 root   wheel        127 Feb 25  2019 \u001b[31mwish8.5\u001b[m\u001b[m\r\n",
      "-r-xr-sr-x   1 root   tty        23936 Aug 23  2019 \u001b[30m\u001b[46mwrite\u001b[m\u001b[m\r\n",
      "lrwxr-xr-x   1 root   wheel         75 Mar 19  2019 \u001b[35mwsgen\u001b[m\u001b[m -> /System/Library/Frameworks/JavaVM.framework/Versions/Current/Commands/wsgen\r\n",
      "lrwxr-xr-x   1 root   wheel         78 Mar 19  2019 \u001b[35mwsimport\u001b[m\u001b[m -> /System/Library/Frameworks/JavaVM.framework/Versions/Current/Commands/wsimport\r\n",
      "-rwxr-xr-x   1 root   wheel      38672 Aug 23  2019 \u001b[31mxar\u001b[m\u001b[m\r\n",
      "-rwxr-xr-x   1 root   wheel      24192 Aug 23  2019 \u001b[31mxargs\u001b[m\u001b[m\r\n",
      "-rwxr-xr-x   2 root   wheel        925 Feb 25  2019 \u001b[31mxattr\u001b[m\u001b[m\r\n",
      "-rwxr-xr-x   1 root   wheel        432 Feb 25  2019 \u001b[31mxattr-2.7\u001b[m\u001b[m\r\n",
      "-rwxr-xr-x   1 root   wheel      23968 Aug 23  2019 \u001b[31mxcode-select\u001b[m\u001b[m\r\n",
      "-rwxr-xr-x   1 root   wheel      18304 Aug 23  2019 \u001b[31mxcodebuild\u001b[m\u001b[m\r\n",
      "-rwxr-xr-x   1 root   wheel      17952 Aug 23  2019 \u001b[31mxcrun\u001b[m\u001b[m\r\n",
      "-rwxr-xr-x   1 root   wheel      18304 Aug 23  2019 \u001b[31mxcscontrol\u001b[m\u001b[m\r\n",
      "-rwxr-xr-x   1 root   wheel      18320 Aug 23  2019 \u001b[31mxcsdiagnose\u001b[m\u001b[m\r\n",
      "-rwxr-xr-x   1 root   wheel      18288 Aug 23  2019 \u001b[31mxed\u001b[m\u001b[m\r\n",
      "-rwxr-xr-x  35 root   wheel        811 Feb 25  2019 \u001b[31mxgettext.pl\u001b[m\u001b[m\r\n",
      "-r-xr-xr-x   1 root   wheel       6650 Feb 25  2019 \u001b[31mxgettext5.18.pl\u001b[m\u001b[m\r\n",
      "-rwxr-xr-x   1 root   wheel      28624 Jan 24 04:14 \u001b[31mxip\u001b[m\u001b[m\r\n",
      "lrwxr-xr-x   1 root   wheel         73 Mar 19  2019 \u001b[35mxjc\u001b[m\u001b[m -> /System/Library/Frameworks/JavaVM.framework/Versions/Current/Commands/xjc\r\n",
      "-rwxr-xr-x   1 root   wheel       1874 Feb 25  2019 \u001b[31mxml2-config\u001b[m\u001b[m\r\n",
      "-rwxr-xr-x   1 root   wheel      18304 Aug 23  2019 \u001b[31mxml2man\u001b[m\u001b[m\r\n",
      "-rwxr-xr-x   1 root   wheel      61104 Jan 24 04:14 \u001b[31mxmlcatalog\u001b[m\u001b[m\r\n",
      "-rwxr-xr-x   1 root   wheel     141200 Jan 24 04:14 \u001b[31mxmllint\u001b[m\u001b[m\r\n",
      "-rwxr-xr-x  35 root   wheel        811 Feb 25  2019 \u001b[31mxpath\u001b[m\u001b[m\r\n",
      "-r-xr-xr-x   1 root   wheel       1445 Feb 25  2019 \u001b[31mxpath5.18\u001b[m\u001b[m\r\n",
      "-rwxr-xr-x   1 root   wheel       2546 Feb 25  2019 \u001b[31mxslt-config\u001b[m\u001b[m\r\n",
      "-rwxr-xr-x   1 root   wheel      75072 Jan 24 04:14 \u001b[31mxsltproc\u001b[m\u001b[m\r\n",
      "-rwxr-xr-x  38 root   wheel        811 Feb 26  2019 \u001b[31mxsubpp\u001b[m\u001b[m\r\n",
      "-rwxr-xr-x   1 root   wheel       4591 Feb 26  2019 \u001b[31mxsubpp5.18\u001b[m\u001b[m\r\n",
      "-rwxr-xr-x   1 root   wheel      27312 Jan 24 04:14 \u001b[31mxxd\u001b[m\u001b[m\r\n",
      "-rwxr-xr-x   1 root   wheel      70192 Aug 23  2019 \u001b[31myaa\u001b[m\u001b[m\r\n",
      "-rwxr-xr-x   1 root   wheel      18288 Aug 23  2019 \u001b[31myacc\u001b[m\u001b[m\r\n",
      "-rwxr-xr-x   1 root   wheel      17808 Aug 23  2019 \u001b[31myes\u001b[m\u001b[m\r\n",
      "-rwxr-xr-x   1 root   wheel      53280 Aug 23  2019 \u001b[31mzcat\u001b[m\u001b[m\r\n",
      "-rwxr-xr-x   2 root   wheel       3264 Feb 25  2019 \u001b[31mzcmp\u001b[m\u001b[m\r\n",
      "-rwxr-xr-x   2 root   wheel       3264 Feb 25  2019 \u001b[31mzdiff\u001b[m\u001b[m\r\n",
      "-rwxr-xr-x   1 root   wheel      33952 Aug 23  2019 \u001b[31mzegrep\u001b[m\u001b[m\r\n",
      "-rwxr-xr-x   1 root   wheel      33952 Aug 23  2019 \u001b[31mzfgrep\u001b[m\u001b[m\r\n",
      "-rwxr-xr-x   1 root   wheel       1454 Feb 25  2019 \u001b[31mzforce\u001b[m\u001b[m\r\n",
      "-rwxr-xr-x   1 root   wheel      33952 Aug 23  2019 \u001b[31mzgrep\u001b[m\u001b[m\r\n",
      "-rwxr-xr-x   1 root   wheel     171840 Aug 23  2019 \u001b[31mzip\u001b[m\u001b[m\r\n",
      "-rwxr-xr-x   1 root   wheel      78224 Aug 23  2019 \u001b[31mzipcloak\u001b[m\u001b[m\r\n",
      "-rwxr-xr-x  38 root   wheel        811 Feb 26  2019 \u001b[31mzipdetails\u001b[m\u001b[m\r\n",
      "-rwxr-xr-x   1 root   wheel      48113 Feb 26  2019 \u001b[31mzipdetails5.18\u001b[m\u001b[m\r\n",
      "-rwxr-xr-x   1 root   wheel       2953 Feb 25  2019 \u001b[31mzipgrep\u001b[m\u001b[m\r\n",
      "-rwxr-xr-x   1 root   wheel     185536 Aug 23  2019 \u001b[31mzipinfo\u001b[m\u001b[m\r\n",
      "-rwxr-xr-x   1 root   wheel      73408 Aug 23  2019 \u001b[31mzipnote\u001b[m\u001b[m\r\n",
      "-rwxr-xr-x   1 root   wheel      77664 Aug 23  2019 \u001b[31mzipsplit\u001b[m\u001b[m\r\n",
      "-rwxr-xr-x   2 root   wheel       2080 Feb 25  2019 \u001b[31mzless\u001b[m\u001b[m\r\n",
      "-rwxr-xr-x   2 root   wheel       2080 Feb 25  2019 \u001b[31mzmore\u001b[m\u001b[m\r\n",
      "-rwxr-xr-x   1 root   wheel       3376 Feb 25  2019 \u001b[31mznew\u001b[m\u001b[m\r\n",
      "-rwxr-xr-x   1 root   wheel      74672 Jan 24 04:14 \u001b[31mzprint\u001b[m\u001b[m\r\n"
     ]
    }
   ],
   "source": [
    "!ls -l /usr/bin"
   ]
  },
  {
   "cell_type": "markdown",
   "metadata": {},
   "source": [
    "All of them have execute permissions, even people or groups that don't own it. This is because we want everyone using the computer to be able to run these programs.\n",
    "\n",
    "For directories though, these things have a diffferent meaning.\n",
    "\n",
    "read - can you see which files are inside this directory\n",
    "\n",
    "write - whether you are allowed to rename, create or remove files from the dir. This means that if you have write permissions on a file, but you don't have write permissions on it's directory, you cannot delete the file. You can empty it, but you cannot delete it, because that would require writing to the directory itself.\n",
    "\n",
    "execute - execute on directories is what's known as search. Are you allowed to enter this directory, if you want to get to a file, if you want to open and read it, basically to cd into a directory, you must have execute permissions on all parent directories of that directory and the directory itself.\n",
    "\n",
    "# Look up\n",
    "what are s,t and l in the permission slots\n",
    "\n",
    "mv can be used to move or rename"
   ]
  },
  {
   "cell_type": "code",
   "execution_count": 22,
   "metadata": {},
   "outputs": [],
   "source": [
    "!touch temp_file.txt"
   ]
  },
  {
   "cell_type": "code",
   "execution_count": 23,
   "metadata": {},
   "outputs": [
    {
     "name": "stdout",
     "output_type": "stream",
     "text": [
      "temp_file.txt\r\n"
     ]
    }
   ],
   "source": [
    "!ls t*"
   ]
  },
  {
   "cell_type": "code",
   "execution_count": 24,
   "metadata": {},
   "outputs": [],
   "source": [
    "!mv temp_file.txt another_file.txt"
   ]
  },
  {
   "cell_type": "code",
   "execution_count": 25,
   "metadata": {},
   "outputs": [
    {
     "name": "stdout",
     "output_type": "stream",
     "text": [
      "ls: t*: No such file or directory\r\n"
     ]
    }
   ],
   "source": [
    "!ls t*"
   ]
  },
  {
   "cell_type": "code",
   "execution_count": 26,
   "metadata": {},
   "outputs": [
    {
     "name": "stdout",
     "output_type": "stream",
     "text": [
      "another_file.txt\r\n"
     ]
    }
   ],
   "source": [
    "!ls an*"
   ]
  },
  {
   "cell_type": "code",
   "execution_count": 27,
   "metadata": {},
   "outputs": [],
   "source": [
    "!mv another_file.txt temp_file.txt"
   ]
  },
  {
   "cell_type": "code",
   "execution_count": 28,
   "metadata": {},
   "outputs": [],
   "source": [
    "!cp temp_file.txt another_file.txt"
   ]
  },
  {
   "cell_type": "code",
   "execution_count": 29,
   "metadata": {},
   "outputs": [],
   "source": [
    "!mkdir temp_folder"
   ]
  },
  {
   "cell_type": "code",
   "execution_count": 30,
   "metadata": {},
   "outputs": [],
   "source": [
    "!cp temp_file.txt temp_folder/new_file.txt"
   ]
  },
  {
   "cell_type": "code",
   "execution_count": 31,
   "metadata": {},
   "outputs": [
    {
     "name": "stdout",
     "output_type": "stream",
     "text": [
      "new_file.txt\r\n"
     ]
    }
   ],
   "source": [
    "!ls temp_folder/"
   ]
  },
  {
   "cell_type": "code",
   "execution_count": 32,
   "metadata": {},
   "outputs": [],
   "source": [
    "!rm temp_folder/new_file.txt"
   ]
  },
  {
   "cell_type": "markdown",
   "metadata": {},
   "source": [
    "By default, removal is not recursive in Linux, you can use the -r flag for that. Then there is also the\n",
    "\n",
    "```\n",
    "$rmdir\n",
    "```\n",
    "\n",
    "command to remove a directory, but it will only remove an empty directory. You can use it to make sure you don't throw away a bunch of files\n",
    "\n",
    "There is a really handy way to learn how any command works. It called the man command or using the manual pages."
   ]
  },
  {
   "cell_type": "code",
   "execution_count": 33,
   "metadata": {},
   "outputs": [],
   "source": [
    "# !man ls"
   ]
  },
  {
   "cell_type": "markdown",
   "metadata": {},
   "source": [
    "A handy keyboard shortcut to clear console output is **CMD + L**.\n",
    "\n",
    "So far we've only seen individual programs, but much of the power of the shell comes from combining programs. The way we do this is using something called streams. Every program has 2 primary streams, the ip stream and an op stream. By default, the ip stream is your keyboard, whatever you type on your terminal is going to end up in your program. The default output stream is printing to your terminal. \n",
    "\n",
    "We can change the streams. The most straightforward way is to use left and right angle brackets.\n",
    "\n",
    "< file : means rewire the ip of this program to be the contents of this file \n",
    "\n",
    "\\> file : means rewire the op of this program, into this file"
   ]
  },
  {
   "cell_type": "code",
   "execution_count": 34,
   "metadata": {},
   "outputs": [],
   "source": [
    "# nothing gets printed to the op\n",
    "!echo hello > hello.txt"
   ]
  },
  {
   "cell_type": "code",
   "execution_count": 35,
   "metadata": {},
   "outputs": [
    {
     "name": "stdout",
     "output_type": "stream",
     "text": [
      "hello\r\n"
     ]
    }
   ],
   "source": [
    "# prints the contents of a file\n",
    "!cat hello.txt"
   ]
  },
  {
   "cell_type": "code",
   "execution_count": 36,
   "metadata": {},
   "outputs": [
    {
     "name": "stdout",
     "output_type": "stream",
     "text": [
      "hello\r\n"
     ]
    }
   ],
   "source": [
    "# we can write the same thing as\n",
    "!cat < hello.txt"
   ]
  },
  {
   "cell_type": "code",
   "execution_count": 37,
   "metadata": {},
   "outputs": [],
   "source": [
    "# cat just copies the ip to the op\n",
    "# we can change both ip and op stream at the same time\n",
    "# if we want to copy a file without cp we can do this\n",
    "!cat < hello.txt > hello2.txt"
   ]
  },
  {
   "cell_type": "code",
   "execution_count": 38,
   "metadata": {},
   "outputs": [
    {
     "name": "stdout",
     "output_type": "stream",
     "text": [
      "hello\r\n"
     ]
    }
   ],
   "source": [
    "!cat hello2.txt"
   ]
  },
  {
   "cell_type": "markdown",
   "metadata": {},
   "source": [
    "There is also >> which is append"
   ]
  },
  {
   "cell_type": "code",
   "execution_count": 39,
   "metadata": {},
   "outputs": [],
   "source": [
    "!cat < hello.txt >> hello2.txt"
   ]
  },
  {
   "cell_type": "code",
   "execution_count": 40,
   "metadata": {},
   "outputs": [
    {
     "name": "stdout",
     "output_type": "stream",
     "text": [
      "hello\r\n",
      "hello\r\n"
     ]
    }
   ],
   "source": [
    "!cat hello2.txt"
   ]
  },
  {
   "cell_type": "markdown",
   "metadata": {},
   "source": [
    "Another interesting operator is the pipe operator |. It takes the output of the program to the left, and gives it as input to the program to the right. Say we want only the last line of ls -l. We do this using a program called tail and its flag -n. Ls does not know about tail and vice versa. It is the pipe that wires them together."
   ]
  },
  {
   "cell_type": "code",
   "execution_count": 41,
   "metadata": {},
   "outputs": [
    {
     "name": "stdout",
     "output_type": "stream",
     "text": [
      "drwxr-xr-x    2 dipamvasani  staff       64 Mar 26 19:28 temp_folder\r\n"
     ]
    }
   ],
   "source": [
    "!ls -l | tail -n1"
   ]
  },
  {
   "cell_type": "code",
   "execution_count": 42,
   "metadata": {},
   "outputs": [],
   "source": [
    "# we can also wire the output of that to a text file\n",
    "!ls -l | tail -n1 > ls.txt"
   ]
  },
  {
   "cell_type": "code",
   "execution_count": 43,
   "metadata": {},
   "outputs": [
    {
     "name": "stdout",
     "output_type": "stream",
     "text": [
      "drwxr-xr-x    2 dipamvasani  staff       64 Mar 26 19:28 temp_folder\r\n"
     ]
    }
   ],
   "source": [
    "!cat ls.txt"
   ]
  },
  {
   "cell_type": "code",
   "execution_count": 44,
   "metadata": {},
   "outputs": [
    {
     "name": "stdout",
     "output_type": "stream",
     "text": [
      "HTTP/1.1 301 Moved Permanently\r",
      "\r\n",
      "\u001b[1mLocation\u001b[0m: http://www.google.com/\r",
      "\r\n",
      "\u001b[1mContent-Type\u001b[0m: text/html; charset=UTF-8\r",
      "\r\n",
      "\u001b[1mDate\u001b[0m: Thu, 26 Mar 2020 23:29:04 GMT\r",
      "\r\n",
      "\u001b[1mExpires\u001b[0m: Sat, 25 Apr 2020 23:29:04 GMT\r",
      "\r\n",
      "\u001b[1mCache-Control\u001b[0m: public, max-age=2592000\r",
      "\r\n",
      "\u001b[1mServer\u001b[0m: gws\r",
      "\r\n",
      "\u001b[1mContent-Length\u001b[0m: 219\r",
      "\r\n",
      "\u001b[1mX-XSS-Protection\u001b[0m: 0\r",
      "\r\n",
      "\u001b[1mX-Frame-Options\u001b[0m: SAMEORIGIN\r",
      "\r\n",
      "\r",
      "\r\n"
     ]
    }
   ],
   "source": [
    "# all the http headers for accessing google.com\n",
    "!curl --head --silent google.com"
   ]
  },
  {
   "cell_type": "code",
   "execution_count": 45,
   "metadata": {},
   "outputs": [
    {
     "name": "stdout",
     "output_type": "stream",
     "text": [
      "Content-Length: 219\r",
      "\r\n"
     ]
    }
   ],
   "source": [
    "# -i in grep is for ignore case\n",
    "!curl --head --silent google.com | grep -i content-length"
   ]
  },
  {
   "cell_type": "code",
   "execution_count": 46,
   "metadata": {},
   "outputs": [
    {
     "name": "stdout",
     "output_type": "stream",
     "text": [
      "219\r",
      "\r\n"
     ]
    }
   ],
   "source": [
    "# we can send that output to the cut command\n",
    "# the cut command takes a delimiter -d as space to cut the input on space\n",
    "# and -f2 returns the second term from the cut list\n",
    "!curl --head --silent google.com | grep -i content-length | cut -d ' ' -f2"
   ]
  },
  {
   "cell_type": "markdown",
   "metadata": {},
   "source": [
    "By chaining these commands together we can achieve good text manipulation effects. Pipe also works for images and video.\n",
    "\n",
    "Root user or super user can do anything on your computer. It can access files which nobody has the permission for. Most of the time you will not be running your computer as a root user because if you run the wrong program, it can destroy everything. However, now and again you will want to do tasks as a super user, the program we user for is called sudo, do as super user."
   ]
  },
  {
   "cell_type": "code",
   "execution_count": 60,
   "metadata": {},
   "outputs": [
    {
     "name": "stdout",
     "output_type": "stream",
     "text": [
      "/\n"
     ]
    }
   ],
   "source": [
    "%cd /"
   ]
  },
  {
   "cell_type": "code",
   "execution_count": 61,
   "metadata": {},
   "outputs": [
    {
     "name": "stdout",
     "output_type": "stream",
     "text": [
      "\u001b[34mApplications\u001b[m\u001b[m              \u001b[34mbin\u001b[m\u001b[m                       \u001b[34mprivate\u001b[m\u001b[m\r\n",
      "\u001b[34mLibrary\u001b[m\u001b[m                   \u001b[34mcores\u001b[m\u001b[m                     \u001b[34msbin\u001b[m\u001b[m\r\n",
      "\u001b[34mNetwork\u001b[m\u001b[m                   \u001b[34mdev\u001b[m\u001b[m                       \u001b[35mtmp\u001b[m\u001b[m\r\n",
      "\u001b[34mSystem\u001b[m\u001b[m                    \u001b[35metc\u001b[m\u001b[m                       \u001b[34musr\u001b[m\u001b[m\r\n",
      "\u001b[34mUsers\u001b[m\u001b[m                     \u001b[34mhome\u001b[m\u001b[m                      \u001b[35mvar\u001b[m\u001b[m\r\n",
      "\u001b[34mVolumes\u001b[m\u001b[m                   installer.failurerequests \u001b[34mvm\u001b[m\u001b[m\r\n",
      "\u001b[34manaconda3\u001b[m\u001b[m                 \u001b[34mnet\u001b[m\u001b[m\r\n"
     ]
    }
   ],
   "source": [
    "!ls"
   ]
  },
  {
   "cell_type": "markdown",
   "metadata": {},
   "source": [
    "This is a whole new world, these are not files on your computer but kernel parameters. The kernel is the core of the computer and this is the way to access various kernel parameters through what looks like a file system,"
   ]
  },
  {
   "cell_type": "markdown",
   "metadata": {},
   "source": [
    "# Check how to do things like max brightness\n",
    "\n",
    "and watch from min 38 again"
   ]
  },
  {
   "cell_type": "markdown",
   "metadata": {},
   "source": [
    "eg we can see various programs in the / directory, maybe backlight, we can cd into it and print the brightness. Then we can try to change it like this\n",
    "\n",
    "```bash\n",
    "$echo 500 > brightness\n",
    "```\n",
    "\n",
    "This will give a permission denied error. You might think we can do\n",
    "\n",
    "```bash\n",
    "$sudo echo 500 > brightness\n",
    "```\n",
    "\n",
    "to solve this error but even that gives permission denied error, the reason being, remember how pipes and redirection work. The 2 programs don't know about each other and are wired using the terminal and the redirection operator. In this case, brightness does not know about sudo, it just knows that it is being opened by the terminal.\n",
    "\n",
    "If we want to run as root, we can do sudo su. However, we can also do it without changing to super user as follows:\n",
    "\n",
    "```bash\n",
    "$echo 1060 | sudo tee brightness\n",
    "```"
   ]
  },
  {
   "cell_type": "code",
   "execution_count": 65,
   "metadata": {},
   "outputs": [
    {
     "name": "stdout",
     "output_type": "stream",
     "text": [
      "/Users/dipamvasani/Desktop\n"
     ]
    }
   ],
   "source": [
    "%cd Users/dipamvasani/Desktop/"
   ]
  },
  {
   "cell_type": "code",
   "execution_count": 66,
   "metadata": {},
   "outputs": [
    {
     "name": "stdout",
     "output_type": "stream",
     "text": [
      "hello\r\n"
     ]
    }
   ],
   "source": [
    "!echo hello | tee log_file.txt"
   ]
  },
  {
   "cell_type": "code",
   "execution_count": 69,
   "metadata": {},
   "outputs": [
    {
     "name": "stdout",
     "output_type": "stream",
     "text": [
      "hello world\r\n"
     ]
    }
   ],
   "source": [
    "!echo \"hello world\" | tee temp.txt"
   ]
  },
  {
   "cell_type": "code",
   "execution_count": 70,
   "metadata": {},
   "outputs": [
    {
     "name": "stdout",
     "output_type": "stream",
     "text": [
      "hello world\r\n"
     ]
    }
   ],
   "source": [
    "!cat temp.txt"
   ]
  },
  {
   "cell_type": "code",
   "execution_count": 71,
   "metadata": {},
   "outputs": [
    {
     "name": "stdout",
     "output_type": "stream",
     "text": [
      "00_the_shell.ipynb\r\n",
      "\u001b[34mDeep_learning_for_signal_processing\u001b[m\u001b[m\r\n",
      "\u001b[34mIU\u001b[m\u001b[m\r\n",
      "\u001b[34mPyTorch\u001b[m\u001b[m\r\n",
      "\u001b[34mRSNA_Intracranial-hemorrhage\u001b[m\u001b[m\r\n",
      "Screen Recording 2020-03-26 at 6.20.10 PM.mov\r\n",
      "Screen Recording 2020-03-26 at 6.20.35 PM.mov\r\n",
      "Screen Recording 2020-03-26 at 6.20.50 PM.mov\r\n",
      "Screen Shot 2020-02-14 at 10.41.45 AM.png\r\n",
      "Screen Shot 2020-03-05 at 9.26.51 AM.png\r\n",
      "Screen Shot 2020-03-24 at 8.55.47 PM.png\r\n",
      "Screen Shot 2020-03-26 at 11.18.41 PM.png\r\n",
      "\u001b[34mSolstice Client.app\u001b[m\u001b[m\r\n",
      "\u001b[34mThe_missing_semester\u001b[m\u001b[m\r\n",
      "all_imports.ipynb\r\n",
      "another_file.txt\r\n",
      "\u001b[34marticle_images\u001b[m\u001b[m\r\n",
      "\u001b[34mb657-a2\u001b[m\u001b[m\r\n",
      "\u001b[34mbooks\u001b[m\u001b[m\r\n",
      "cv_assignment2.ipynb\r\n",
      "\u001b[34mfast_ss\u001b[m\u001b[m\r\n",
      "\u001b[34mfastai_dev\u001b[m\u001b[m\r\n",
      "\u001b[34mfastai_foundations\u001b[m\u001b[m\r\n",
      "hello world\r\n",
      "hello.txt\r\n",
      "hello2.txt\r\n",
      "kaggle.json\r\n",
      "\u001b[34mlinkedin_ss\u001b[m\u001b[m\r\n",
      "log_file.txt\r\n",
      "ls.txt\r\n",
      "\u001b[34mmachine-learning-systems-design\u001b[m\u001b[m\r\n",
      "\u001b[34mnew_folder\u001b[m\u001b[m\r\n",
      "\u001b[34mother\u001b[m\u001b[m\r\n",
      "\u001b[34mpractice\u001b[m\u001b[m\r\n",
      "\u001b[34mresume\u001b[m\u001b[m\r\n",
      "temp.txt\r\n",
      "temp_file.txt\r\n",
      "\u001b[34mtemp_folder\u001b[m\u001b[m\r\n"
     ]
    }
   ],
   "source": [
    "!ls"
   ]
  },
  {
   "cell_type": "code",
   "execution_count": 72,
   "metadata": {},
   "outputs": [
    {
     "name": "stdout",
     "output_type": "stream",
     "text": [
      "/Users/dipamvasani/Desktop/article_images\n"
     ]
    }
   ],
   "source": [
    "cd article_images/"
   ]
  },
  {
   "cell_type": "code",
   "execution_count": 73,
   "metadata": {},
   "outputs": [
    {
     "name": "stdout",
     "output_type": "stream",
     "text": [
      "\u001b[34mFancy-python\u001b[m\u001b[m       \u001b[34mdecorators\u001b[m\u001b[m         fancy_python.ipynb test.ipynb\r\n",
      "\u001b[34mbetter_functions\u001b[m\u001b[m   \u001b[34mfancy_2\u001b[m\u001b[m            \u001b[34mjupyter_tricks\u001b[m\u001b[m     \u001b[34mtraining_loop\u001b[m\u001b[m\r\n",
      "\u001b[34mcallbacks\u001b[m\u001b[m          \u001b[34mfancy_python\u001b[m\u001b[m       \u001b[34mneural_init\u001b[m\u001b[m        \u001b[34mupgrade_lists\u001b[m\u001b[m\r\n"
     ]
    }
   ],
   "source": [
    "!ls"
   ]
  },
  {
   "cell_type": "code",
   "execution_count": 78,
   "metadata": {},
   "outputs": [
    {
     "name": "stdout",
     "output_type": "stream",
     "text": [
      "/Users/dipamvasani/Desktop/article_images/training_loop\n"
     ]
    }
   ],
   "source": [
    "cd training_loop/"
   ]
  },
  {
   "cell_type": "code",
   "execution_count": 81,
   "metadata": {},
   "outputs": [],
   "source": [
    "# open any file in the appropriate program \n",
    "!open Screen\\ Shot\\ 2019-09-26\\ at\\ 7.55.18\\ PM.png"
   ]
  },
  {
   "cell_type": "markdown",
   "metadata": {},
   "source": [
    "## Exercies"
   ]
  },
  {
   "cell_type": "markdown",
   "metadata": {},
   "source": [
    "1. Create a new directory called missing under /tmp.\n",
    "2. Look up the touch program. The man program is your friend.\n",
    "3. Use touch to create a new file called semester in missing.\n",
    "4. Write the following into that file, one line at a time:\n",
    "```bash\n",
    "#!/bin/sh\n",
    "curl --head --silent https://missing.csail.mit.edu\n",
    "```\n",
    "\n",
    "The first line might be tricky to get working. It’s helpful to know that # starts a comment in Bash, and ! has a special meaning even within double-quoted (\") strings. Bash treats single-quoted strings (') differently: they will do the trick in this case. See the Bash quoting manual page for more information.\n",
    "\n",
    "5. Try to execute the file, i.e. type the path to the script (./semester) into your shell and press enter. Understand why it doesn’t work by consulting the output of ls (hint: look at the permission bits of the file).\n",
    "6. Run the command by explicitly starting the sh interpreter, and giving it the file semester as the first argument, i.e. sh semester. Why does this work, while ./semester didn’t?\n",
    "7. Look up the chmod program (e.g. use man chmod).\n",
    "8. Use chmod to make it possible to run the command ./semester rather than having to type sh semester. How does your shell know that the file is supposed to be interpreted using sh? See this page on the shebang line for more information.\n",
    "9. Use | and > to write the “last modified” date output by semester into a file called last-modified.txt in your home directory.\n",
    "10. Write a command that reads out your laptop battery’s power level or your desktop machine’s CPU temperature from /sys. Note: if you’re a macOS user, your OS doesn’t have sysfs, so you can skip this exercise."
   ]
  },
  {
   "cell_type": "code",
   "execution_count": 85,
   "metadata": {},
   "outputs": [
    {
     "name": "stdout",
     "output_type": "stream",
     "text": [
      "/private/tmp\n"
     ]
    }
   ],
   "source": [
    "%cd /tmp"
   ]
  },
  {
   "cell_type": "code",
   "execution_count": 86,
   "metadata": {},
   "outputs": [
    {
     "name": "stdout",
     "output_type": "stream",
     "text": [
      "\u001b[34mcom.apple.launchd.YduLyGcbAY\u001b[m\u001b[m \u001b[34mwbxtrace\u001b[m\u001b[m\r\n",
      "\u001b[34mcom.apple.launchd.j8pULSGAxi\u001b[m\u001b[m\r\n"
     ]
    }
   ],
   "source": [
    "!ls"
   ]
  },
  {
   "cell_type": "code",
   "execution_count": 93,
   "metadata": {},
   "outputs": [],
   "source": [
    "!mkdir missing"
   ]
  },
  {
   "cell_type": "code",
   "execution_count": 94,
   "metadata": {},
   "outputs": [
    {
     "name": "stdout",
     "output_type": "stream",
     "text": [
      "\u001b[34mcom.apple.launchd.YduLyGcbAY\u001b[m\u001b[m \u001b[34mmissing\u001b[m\u001b[m\r\n",
      "\u001b[34mcom.apple.launchd.j8pULSGAxi\u001b[m\u001b[m \u001b[34mwbxtrace\u001b[m\u001b[m\r\n"
     ]
    }
   ],
   "source": [
    "!ls"
   ]
  },
  {
   "cell_type": "code",
   "execution_count": 95,
   "metadata": {},
   "outputs": [
    {
     "name": "stdout",
     "output_type": "stream",
     "text": [
      "/private/tmp/missing\n"
     ]
    }
   ],
   "source": [
    "%cd missing/"
   ]
  },
  {
   "cell_type": "code",
   "execution_count": 96,
   "metadata": {},
   "outputs": [],
   "source": [
    "!touch semester"
   ]
  },
  {
   "cell_type": "code",
   "execution_count": 97,
   "metadata": {},
   "outputs": [
    {
     "name": "stdout",
     "output_type": "stream",
     "text": [
      "semester\r\n"
     ]
    }
   ],
   "source": [
    "!ls"
   ]
  },
  {
   "cell_type": "code",
   "execution_count": 102,
   "metadata": {},
   "outputs": [],
   "source": [
    "!echo \"#!/bin/sh\" > semester"
   ]
  },
  {
   "cell_type": "code",
   "execution_count": 103,
   "metadata": {},
   "outputs": [
    {
     "name": "stdout",
     "output_type": "stream",
     "text": [
      "#!/bin/sh\r\n"
     ]
    }
   ],
   "source": [
    "!cat semester"
   ]
  },
  {
   "cell_type": "code",
   "execution_count": 104,
   "metadata": {},
   "outputs": [],
   "source": [
    "!echo \"curl --head --silent https://missing.csail.mit.edu\" >> semester"
   ]
  },
  {
   "cell_type": "code",
   "execution_count": 105,
   "metadata": {},
   "outputs": [
    {
     "name": "stdout",
     "output_type": "stream",
     "text": [
      "#!/bin/sh\r\n",
      "curl --head --silent https://missing.csail.mit.edu\r\n"
     ]
    }
   ],
   "source": [
    "!cat semester"
   ]
  },
  {
   "cell_type": "code",
   "execution_count": 106,
   "metadata": {},
   "outputs": [
    {
     "name": "stdout",
     "output_type": "stream",
     "text": [
      "/bin/sh: ./semester: Permission denied\r\n"
     ]
    }
   ],
   "source": [
    "!./semester"
   ]
  },
  {
   "cell_type": "code",
   "execution_count": 107,
   "metadata": {},
   "outputs": [
    {
     "name": "stdout",
     "output_type": "stream",
     "text": [
      "total 8\r\n",
      "-rw-r--r--  1 dipamvasani  wheel  61 Mar 26 23:35 semester\r\n"
     ]
    }
   ],
   "source": [
    "!ls -l"
   ]
  },
  {
   "cell_type": "markdown",
   "metadata": {},
   "source": [
    "It doesn't work because it does not have permissions. It works with sh though, because we are no longer executing it as a program but an input to sh."
   ]
  },
  {
   "cell_type": "code",
   "execution_count": 108,
   "metadata": {},
   "outputs": [
    {
     "name": "stdout",
     "output_type": "stream",
     "text": [
      "HTTP/1.1 200 OK\r",
      "\r\n",
      "\u001b[1mServer\u001b[0m: GitHub.com\r",
      "\r\n",
      "\u001b[1mContent-Type\u001b[0m: text/html; charset=utf-8\r",
      "\r\n",
      "\u001b[1mLast-Modified\u001b[0m: Tue, 24 Mar 2020 02:18:43 GMT\r",
      "\r\n",
      "\u001b[1mETag\u001b[0m: \"5e796e03-1abd\"\r",
      "\r\n",
      "\u001b[1mAccess-Control-Allow-Origin\u001b[0m: *\r",
      "\r\n",
      "\u001b[1mExpires\u001b[0m: Fri, 27 Mar 2020 02:21:51 GMT\r",
      "\r\n",
      "\u001b[1mCache-Control\u001b[0m: max-age=600\r",
      "\r\n",
      "\u001b[1mX-Proxy-Cache\u001b[0m: MISS\r",
      "\r\n",
      "\u001b[1mX-GitHub-Request-Id\u001b[0m: 4CFE:3777:7EF5B:A7567:5E7D60E6\r",
      "\r\n",
      "\u001b[1mContent-Length\u001b[0m: 6845\r",
      "\r\n",
      "\u001b[1mAccept-Ranges\u001b[0m: bytes\r",
      "\r\n",
      "\u001b[1mDate\u001b[0m: Fri, 27 Mar 2020 03:36:37 GMT\r",
      "\r\n",
      "\u001b[1mVia\u001b[0m: 1.1 varnish\r",
      "\r\n",
      "\u001b[1mAge\u001b[0m: 0\r",
      "\r\n",
      "\u001b[1mConnection\u001b[0m: keep-alive\r",
      "\r\n",
      "\u001b[1mX-Served-By\u001b[0m: cache-mdw17351-MDW\r",
      "\r\n",
      "\u001b[1mX-Cache\u001b[0m: MISS\r",
      "\r\n",
      "\u001b[1mX-Cache-Hits\u001b[0m: 0\r",
      "\r\n",
      "\u001b[1mX-Timer\u001b[0m: S1585280198.960425,VS0,VE25\r",
      "\r\n",
      "\u001b[1mVary\u001b[0m: Accept-Encoding\r",
      "\r\n",
      "\u001b[1mX-Fastly-Request-ID\u001b[0m: 6f03f574fb9f00cd4e6532c0a9c9b09e2279b612\r",
      "\r\n",
      "\r",
      "\r\n"
     ]
    }
   ],
   "source": [
    "!sh semester"
   ]
  },
  {
   "cell_type": "code",
   "execution_count": 110,
   "metadata": {},
   "outputs": [],
   "source": [
    "!chmod a+x semester"
   ]
  },
  {
   "cell_type": "code",
   "execution_count": 111,
   "metadata": {},
   "outputs": [
    {
     "name": "stdout",
     "output_type": "stream",
     "text": [
      "total 8\r\n",
      "-rwxr-xr-x  1 dipamvasani  wheel  61 Mar 26 23:35 \u001b[31msemester\u001b[m\u001b[m\r\n"
     ]
    }
   ],
   "source": [
    "!ls -l"
   ]
  },
  {
   "cell_type": "code",
   "execution_count": 112,
   "metadata": {},
   "outputs": [
    {
     "name": "stdout",
     "output_type": "stream",
     "text": [
      "HTTP/1.1 200 OK\r",
      "\r\n",
      "\u001b[1mServer\u001b[0m: GitHub.com\r",
      "\r\n",
      "\u001b[1mContent-Type\u001b[0m: text/html; charset=utf-8\r",
      "\r\n",
      "\u001b[1mLast-Modified\u001b[0m: Tue, 24 Mar 2020 02:18:43 GMT\r",
      "\r\n",
      "\u001b[1mETag\u001b[0m: \"5e796e03-1abd\"\r",
      "\r\n",
      "\u001b[1mAccess-Control-Allow-Origin\u001b[0m: *\r",
      "\r\n",
      "\u001b[1mExpires\u001b[0m: Fri, 27 Mar 2020 02:21:51 GMT\r",
      "\r\n",
      "\u001b[1mCache-Control\u001b[0m: max-age=600\r",
      "\r\n",
      "\u001b[1mX-Proxy-Cache\u001b[0m: MISS\r",
      "\r\n",
      "\u001b[1mX-GitHub-Request-Id\u001b[0m: 4CFE:3777:7EF5B:A7567:5E7D60E6\r",
      "\r\n",
      "\u001b[1mContent-Length\u001b[0m: 6845\r",
      "\r\n",
      "\u001b[1mAccept-Ranges\u001b[0m: bytes\r",
      "\r\n",
      "\u001b[1mDate\u001b[0m: Fri, 27 Mar 2020 03:39:30 GMT\r",
      "\r\n",
      "\u001b[1mVia\u001b[0m: 1.1 varnish\r",
      "\r\n",
      "\u001b[1mAge\u001b[0m: 173\r",
      "\r\n",
      "\u001b[1mConnection\u001b[0m: keep-alive\r",
      "\r\n",
      "\u001b[1mX-Served-By\u001b[0m: cache-mdw17328-MDW\r",
      "\r\n",
      "\u001b[1mX-Cache\u001b[0m: HIT\r",
      "\r\n",
      "\u001b[1mX-Cache-Hits\u001b[0m: 1\r",
      "\r\n",
      "\u001b[1mX-Timer\u001b[0m: S1585280371.636765,VS0,VE0\r",
      "\r\n",
      "\u001b[1mVary\u001b[0m: Accept-Encoding\r",
      "\r\n",
      "\u001b[1mX-Fastly-Request-ID\u001b[0m: 1d1e807908844360eae85ac4b4e08dd517344ca6\r",
      "\r\n",
      "\r",
      "\r\n"
     ]
    }
   ],
   "source": [
    "!./semester"
   ]
  },
  {
   "cell_type": "code",
   "execution_count": 114,
   "metadata": {},
   "outputs": [],
   "source": [
    "!./semester | grep -i 'last-modified' > last-modified.txt"
   ]
  },
  {
   "cell_type": "code",
   "execution_count": 115,
   "metadata": {},
   "outputs": [
    {
     "name": "stdout",
     "output_type": "stream",
     "text": [
      "Last-Modified: Tue, 24 Mar 2020 02:18:43 GMT\r",
      "\r\n"
     ]
    }
   ],
   "source": [
    "!cat last-modified.txt"
   ]
  },
  {
   "cell_type": "code",
   "execution_count": null,
   "metadata": {},
   "outputs": [],
   "source": []
  }
 ],
 "metadata": {
  "kernelspec": {
   "display_name": "Python 3",
   "language": "python",
   "name": "python3"
  },
  "language_info": {
   "codemirror_mode": {
    "name": "ipython",
    "version": 3
   },
   "file_extension": ".py",
   "mimetype": "text/x-python",
   "name": "python",
   "nbconvert_exporter": "python",
   "pygments_lexer": "ipython3",
   "version": "3.7.3"
  }
 },
 "nbformat": 4,
 "nbformat_minor": 2
}
